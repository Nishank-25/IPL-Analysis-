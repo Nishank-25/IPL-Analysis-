{
 "cells": [
  {
   "cell_type": "markdown",
   "metadata": {
    "id": "RMeXg1Txj-kp"
   },
   "source": [
    "#**IPL Analysis- by Yash Shinde**\n",
    "\n",
    "The Indian Premier League (IPL) is a professional Twenty20 cricket league in India contested during March or April and May of every year by eight teams representing eight different cities in India. The league was founded by the Board of Control for Cricket in India (BCCI) in 2008. The IPL has an exclusive window in ICC Future Tours Programme.\n",
    "\n",
    "The IPL is the most-attended cricket league in the world and in 2014 ranked sixth by average attendance among all sports leagues. In 2010, the IPL became the first sporting event in the world to be broadcast live on YouTube. The brand value of the IPL in 2019 was ₹475 billion (US 6.7 billion dollars), according to Duff & Phelps. According to BCCI, the 2015 IPL season contributed ₹11.5 billion (US 160 million dollars) to the GDP of the Indian economy.\n",
    "\n",
    "There have been twelve seasons of the IPL tournament. The current IPL title holders are the Mumbai Indians, who won the 2019 season. The venue for the 2020 season has been moved, due to the ongoing COVID-19 pandemic; games will now take place in the United Arab Emirates from 19 September through 10 November.\n",
    "[To know more about IPL, click here](https://en.wikipedia.org/wiki/Indian_Premier_League)\n",
    "\n",
    "![IPL](https://upload.wikimedia.org/wikipedia/en/thumb/8/84/Indian_Premier_League_Official_Logo.svg/375px-Indian_Premier_League_Official_Logo.svg.png)"
   ]
  },
  {
   "cell_type": "code",
   "execution_count": 49,
   "metadata": {
    "executionInfo": {
     "elapsed": 3773,
     "status": "ok",
     "timestamp": 1601651959268,
     "user": {
      "displayName": "Yash Shinde",
      "photoUrl": "https://lh5.googleusercontent.com/-8f8D8TQVBv8/AAAAAAAAAAI/AAAAAAAAHzg/6SjI9zzbbYg/s64/photo.jpg",
      "userId": "16704968411796438469"
     },
     "user_tz": -330
    },
    "id": "hy4pAlYej-kq"
   },
   "outputs": [],
   "source": [
    "project_name = \"IPL Analysis\""
   ]
  },
  {
   "cell_type": "code",
   "execution_count": 50,
   "metadata": {
    "executionInfo": {
     "elapsed": 6298,
     "status": "ok",
     "timestamp": 1601651961815,
     "user": {
      "displayName": "Yash Shinde",
      "photoUrl": "https://lh5.googleusercontent.com/-8f8D8TQVBv8/AAAAAAAAAAI/AAAAAAAAHzg/6SjI9zzbbYg/s64/photo.jpg",
      "userId": "16704968411796438469"
     },
     "user_tz": -330
    },
    "id": "ANdlZ9Utj-ks"
   },
   "outputs": [],
   "source": [
    "!pip install jovian --upgrade -q"
   ]
  },
  {
   "cell_type": "code",
   "execution_count": 51,
   "metadata": {
    "executionInfo": {
     "elapsed": 6277,
     "status": "ok",
     "timestamp": 1601651961819,
     "user": {
      "displayName": "Yash Shinde",
      "photoUrl": "https://lh5.googleusercontent.com/-8f8D8TQVBv8/AAAAAAAAAAI/AAAAAAAAHzg/6SjI9zzbbYg/s64/photo.jpg",
      "userId": "16704968411796438469"
     },
     "user_tz": -330
    },
    "id": "qOsUEOTdj-kv"
   },
   "outputs": [],
   "source": [
    "import jovian"
   ]
  },
  {
   "cell_type": "code",
   "execution_count": 52,
   "metadata": {
    "colab": {
     "base_uri": "https://localhost:8080/",
     "height": 87
    },
    "executionInfo": {
     "elapsed": 8670,
     "status": "ok",
     "timestamp": 1601651964244,
     "user": {
      "displayName": "Yash Shinde",
      "photoUrl": "https://lh5.googleusercontent.com/-8f8D8TQVBv8/AAAAAAAAAAI/AAAAAAAAHzg/6SjI9zzbbYg/s64/photo.jpg",
      "userId": "16704968411796438469"
     },
     "user_tz": -330
    },
    "id": "iau61gaJj-kx",
    "outputId": "33e349c5-c111-4276-89b3-ea34a20c6009"
   },
   "outputs": [
    {
     "data": {
      "application/javascript": [
       "window.require && require([\"base/js/namespace\"],function(Jupyter){Jupyter.notebook.save_checkpoint()})"
      ],
      "text/plain": [
       "<IPython.core.display.Javascript object>"
      ]
     },
     "metadata": {},
     "output_type": "display_data"
    },
    {
     "name": "stdout",
     "output_type": "stream",
     "text": [
      "[jovian] Attempting to save notebook..\u001b[0m\n",
      "[jovian] Updating notebook \"uayashu145/ipl-analysis\" on https://jovian.ml/\u001b[0m\n",
      "[jovian] Uploading notebook..\u001b[0m\n",
      "[jovian] Capturing environment..\u001b[0m\n",
      "[jovian] Committed successfully! https://jovian.ml/uayashu145/ipl-analysis\u001b[0m\n"
     ]
    },
    {
     "data": {
      "text/plain": [
       "'https://jovian.ml/uayashu145/ipl-analysis'"
      ]
     },
     "execution_count": 52,
     "metadata": {},
     "output_type": "execute_result"
    }
   ],
   "source": [
    "jovian.commit(project=project_name)"
   ]
  },
  {
   "cell_type": "markdown",
   "metadata": {
    "id": "KLmxth9Tj-k0"
   },
   "source": [
    "##**Loading Libraries and Datasets**\n",
    "Let us begin our analysis by loading the Dataset & Python Modules/ Packages/ Libraries.\n",
    "There are several options for getting the dataset into Jupyter:\n",
    "\n",
    "* Download the CSV manually and upload it via Jupyter's GUI\n",
    "* Use the urlretrieve function from the urllib.request to download CSV files from a raw URL directly\n",
    "* Use a helper library e.g. opendatasets, which contains a collection of curated datasets and provides a function for directly download.\n",
    "\n",
    "We'll use the ***Download the CSV manually and upload it via Jupyter's GUI*** method."
   ]
  },
  {
   "cell_type": "code",
   "execution_count": 53,
   "metadata": {
    "executionInfo": {
     "elapsed": 8633,
     "status": "ok",
     "timestamp": 1601651964247,
     "user": {
      "displayName": "Yash Shinde",
      "photoUrl": "https://lh5.googleusercontent.com/-8f8D8TQVBv8/AAAAAAAAAAI/AAAAAAAAHzg/6SjI9zzbbYg/s64/photo.jpg",
      "userId": "16704968411796438469"
     },
     "user_tz": -330
    },
    "id": "Hyf2WJdfj-k0"
   },
   "outputs": [
    {
     "name": "stdout",
     "output_type": "stream",
     "text": [
      "Requirement already satisfied: pandas in /srv/conda/envs/notebook/lib/python3.7/site-packages (1.1.2)\n",
      "Requirement already satisfied: pytz>=2017.2 in /srv/conda/envs/notebook/lib/python3.7/site-packages (from pandas) (2020.1)\n",
      "Requirement already satisfied: python-dateutil>=2.7.3 in /srv/conda/envs/notebook/lib/python3.7/site-packages (from pandas) (2.8.0)\n",
      "Requirement already satisfied: numpy>=1.15.4 in /srv/conda/envs/notebook/lib/python3.7/site-packages (from pandas) (1.19.2)\n",
      "Requirement already satisfied: six>=1.5 in /srv/conda/envs/notebook/lib/python3.7/site-packages (from python-dateutil>=2.7.3->pandas) (1.12.0)\n",
      "Requirement already satisfied: pandas in /srv/conda/envs/notebook/lib/python3.7/site-packages (1.1.2)\n",
      "Requirement already satisfied: matplotlib in /srv/conda/envs/notebook/lib/python3.7/site-packages (3.3.2)\n",
      "Requirement already satisfied: numpy>=1.15.4 in /srv/conda/envs/notebook/lib/python3.7/site-packages (from pandas) (1.19.2)\n",
      "Requirement already satisfied: pytz>=2017.2 in /srv/conda/envs/notebook/lib/python3.7/site-packages (from pandas) (2020.1)\n",
      "Requirement already satisfied: python-dateutil>=2.7.3 in /srv/conda/envs/notebook/lib/python3.7/site-packages (from pandas) (2.8.0)\n",
      "Requirement already satisfied: pillow>=6.2.0 in /srv/conda/envs/notebook/lib/python3.7/site-packages (from matplotlib) (7.2.0)\n",
      "Requirement already satisfied: pyparsing!=2.0.4,!=2.1.2,!=2.1.6,>=2.0.3 in /srv/conda/envs/notebook/lib/python3.7/site-packages (from matplotlib) (2.4.7)\n",
      "Requirement already satisfied: kiwisolver>=1.0.1 in /srv/conda/envs/notebook/lib/python3.7/site-packages (from matplotlib) (1.2.0)\n",
      "Requirement already satisfied: certifi>=2020.06.20 in /srv/conda/envs/notebook/lib/python3.7/site-packages (from matplotlib) (2020.6.20)\n",
      "Requirement already satisfied: cycler>=0.10 in /srv/conda/envs/notebook/lib/python3.7/site-packages (from matplotlib) (0.10.0)\n",
      "Requirement already satisfied: six>=1.5 in /srv/conda/envs/notebook/lib/python3.7/site-packages (from python-dateutil>=2.7.3->pandas) (1.12.0)\n",
      "Requirement already satisfied: seaborn in /srv/conda/envs/notebook/lib/python3.7/site-packages (0.11.0)\n",
      "Requirement already satisfied: pandas>=0.23 in /srv/conda/envs/notebook/lib/python3.7/site-packages (from seaborn) (1.1.2)\n",
      "Requirement already satisfied: matplotlib>=2.2 in /srv/conda/envs/notebook/lib/python3.7/site-packages (from seaborn) (3.3.2)\n",
      "Requirement already satisfied: numpy>=1.15 in /srv/conda/envs/notebook/lib/python3.7/site-packages (from seaborn) (1.19.2)\n",
      "Requirement already satisfied: scipy>=1.0 in /srv/conda/envs/notebook/lib/python3.7/site-packages (from seaborn) (1.5.2)\n",
      "Requirement already satisfied: pytz>=2017.2 in /srv/conda/envs/notebook/lib/python3.7/site-packages (from pandas>=0.23->seaborn) (2020.1)\n",
      "Requirement already satisfied: python-dateutil>=2.7.3 in /srv/conda/envs/notebook/lib/python3.7/site-packages (from pandas>=0.23->seaborn) (2.8.0)\n",
      "Requirement already satisfied: kiwisolver>=1.0.1 in /srv/conda/envs/notebook/lib/python3.7/site-packages (from matplotlib>=2.2->seaborn) (1.2.0)\n",
      "Requirement already satisfied: pillow>=6.2.0 in /srv/conda/envs/notebook/lib/python3.7/site-packages (from matplotlib>=2.2->seaborn) (7.2.0)\n",
      "Requirement already satisfied: certifi>=2020.06.20 in /srv/conda/envs/notebook/lib/python3.7/site-packages (from matplotlib>=2.2->seaborn) (2020.6.20)\n",
      "Requirement already satisfied: pyparsing!=2.0.4,!=2.1.2,!=2.1.6,>=2.0.3 in /srv/conda/envs/notebook/lib/python3.7/site-packages (from matplotlib>=2.2->seaborn) (2.4.7)\n",
      "Requirement already satisfied: cycler>=0.10 in /srv/conda/envs/notebook/lib/python3.7/site-packages (from matplotlib>=2.2->seaborn) (0.10.0)\n",
      "Requirement already satisfied: six>=1.5 in /srv/conda/envs/notebook/lib/python3.7/site-packages (from python-dateutil>=2.7.3->pandas>=0.23->seaborn) (1.12.0)\n"
     ]
    }
   ],
   "source": [
    "!pip install pandas\n",
    "!pip install pandas matplotlib\n",
    "!pip install seaborn\n",
    "import numpy as np # numerical computing \n",
    "import pandas as pd # data processing, CSV file I/O (e.g. pd.read_csv)\n",
    "from pandas import DataFrame\n",
    "import matplotlib.pyplot as plt #visualization\n",
    "%matplotlib inline\n",
    "import seaborn as sns #modern visualization\n",
    "from urllib.request import urlretrieve\n",
    "urlretrieve('https://www.kaggle.com/nowke9/ipldata?select=matches.csv')\n",
    "\n",
    "\n",
    "#plotting style settings\n",
    "sns.set_style(\"darkgrid\")\n",
    "plt.rcParams['figure.figsize'] = (14, 8)\n",
    "plt.rcParams['font.size'] = 14\n",
    "plt.rcParams['figure.facecolor'] = '#00000000'\n"
   ]
  },
  {
   "cell_type": "markdown",
   "metadata": {
    "id": "SvmTgFbej-k5"
   },
   "source": [
    "##**Reading input dataset**\n",
    "\n",
    "In order to read the input data, let us first define the directory/path in which the input file is present.Since we have downloaded the CSV manually and uploaded it via Jupyter's GUI, we will read the input csv using **`pd.read_csv()`** function."
   ]
  },
  {
   "cell_type": "code",
   "execution_count": 54,
   "metadata": {
    "executionInfo": {
     "elapsed": 8611,
     "status": "ok",
     "timestamp": 1601651964248,
     "user": {
      "displayName": "Yash Shinde",
      "photoUrl": "https://lh5.googleusercontent.com/-8f8D8TQVBv8/AAAAAAAAAAI/AAAAAAAAHzg/6SjI9zzbbYg/s64/photo.jpg",
      "userId": "16704968411796438469"
     },
     "user_tz": -330
    },
    "id": "bD5gBDloj-k5"
   },
   "outputs": [
    {
     "data": {
      "application/javascript": [
       "window.require && require([\"base/js/namespace\"],function(Jupyter){Jupyter.notebook.save_checkpoint()})"
      ],
      "text/plain": [
       "<IPython.core.display.Javascript object>"
      ]
     },
     "metadata": {},
     "output_type": "display_data"
    },
    {
     "name": "stdout",
     "output_type": "stream",
     "text": [
      "[jovian] Attempting to save notebook..\u001b[0m\n",
      "[jovian] Updating notebook \"uayashu145/ipl-analysis\" on https://jovian.ml/\u001b[0m\n",
      "[jovian] Uploading notebook..\u001b[0m\n",
      "[jovian] Capturing environment..\u001b[0m\n",
      "[jovian] Uploading additional outputs...\u001b[0m\n",
      "[jovian] Committed successfully! https://jovian.ml/uayashu145/ipl-analysis\u001b[0m\n"
     ]
    }
   ],
   "source": [
    "jovian.commit(outputs=['matches.csv'])\n",
    "matches = pd.read_csv('matches.csv')"
   ]
  },
  {
   "cell_type": "markdown",
   "metadata": {
    "id": "oNsIcQRkj-k7"
   },
   "source": [
    "##**Get basic information of Data**\n",
    "Let us check the basic information of the dataset. The very basic information to know is the dimension of the dataset – rows and columns – that’s what we find out with the method ***`shape`***."
   ]
  },
  {
   "cell_type": "code",
   "execution_count": 55,
   "metadata": {
    "colab": {
     "base_uri": "https://localhost:8080/",
     "height": 35
    },
    "executionInfo": {
     "elapsed": 8595,
     "status": "ok",
     "timestamp": 1601651964251,
     "user": {
      "displayName": "Yash Shinde",
      "photoUrl": "https://lh5.googleusercontent.com/-8f8D8TQVBv8/AAAAAAAAAAI/AAAAAAAAHzg/6SjI9zzbbYg/s64/photo.jpg",
      "userId": "16704968411796438469"
     },
     "user_tz": -330
    },
    "id": "pp-wKgrwj-k8",
    "outputId": "09be4e53-a131-49bc-c58a-861ba4638bb6"
   },
   "outputs": [
    {
     "data": {
      "text/plain": [
       "(756, 18)"
      ]
     },
     "execution_count": 55,
     "metadata": {},
     "output_type": "execute_result"
    }
   ],
   "source": [
    "matches.shape"
   ]
  },
  {
   "cell_type": "markdown",
   "metadata": {
    "id": "9WpzeJjfj-k-"
   },
   "source": [
    "Also, it’s important to know the different types of data/variables in the given dataset. This can be done by the method ***`info()`***."
   ]
  },
  {
   "cell_type": "code",
   "execution_count": 56,
   "metadata": {
    "colab": {
     "base_uri": "https://localhost:8080/",
     "height": 451
    },
    "executionInfo": {
     "elapsed": 8574,
     "status": "ok",
     "timestamp": 1601651964252,
     "user": {
      "displayName": "Yash Shinde",
      "photoUrl": "https://lh5.googleusercontent.com/-8f8D8TQVBv8/AAAAAAAAAAI/AAAAAAAAHzg/6SjI9zzbbYg/s64/photo.jpg",
      "userId": "16704968411796438469"
     },
     "user_tz": -330
    },
    "id": "cKIvw4j6j-k-",
    "outputId": "f53c4d2c-9362-46ac-f51e-71f7c67064fb"
   },
   "outputs": [
    {
     "name": "stdout",
     "output_type": "stream",
     "text": [
      "<class 'pandas.core.frame.DataFrame'>\n",
      "RangeIndex: 756 entries, 0 to 755\n",
      "Data columns (total 18 columns):\n",
      " #   Column           Non-Null Count  Dtype \n",
      "---  ------           --------------  ----- \n",
      " 0   id               756 non-null    int64 \n",
      " 1   season           756 non-null    int64 \n",
      " 2   city             749 non-null    object\n",
      " 3   date             756 non-null    object\n",
      " 4   team1            756 non-null    object\n",
      " 5   team2            756 non-null    object\n",
      " 6   toss_winner      756 non-null    object\n",
      " 7   toss_decision    756 non-null    object\n",
      " 8   result           756 non-null    object\n",
      " 9   dl_applied       756 non-null    int64 \n",
      " 10  winner           752 non-null    object\n",
      " 11  win_by_runs      756 non-null    int64 \n",
      " 12  win_by_wickets   756 non-null    int64 \n",
      " 13  player_of_match  752 non-null    object\n",
      " 14  venue            756 non-null    object\n",
      " 15  umpire1          754 non-null    object\n",
      " 16  umpire2          754 non-null    object\n",
      " 17  umpire3          119 non-null    object\n",
      "dtypes: int64(5), object(13)\n",
      "memory usage: 106.4+ KB\n"
     ]
    }
   ],
   "source": [
    "matches.info()"
   ]
  },
  {
   "cell_type": "markdown",
   "metadata": {
    "id": "aK54hfcTj-lA"
   },
   "source": [
    "Now, let's perform a simple summary statistics using the method **`describe()`**."
   ]
  },
  {
   "cell_type": "code",
   "execution_count": 57,
   "metadata": {
    "colab": {
     "base_uri": "https://localhost:8080/",
     "height": 294
    },
    "executionInfo": {
     "elapsed": 8498,
     "status": "ok",
     "timestamp": 1601651964253,
     "user": {
      "displayName": "Yash Shinde",
      "photoUrl": "https://lh5.googleusercontent.com/-8f8D8TQVBv8/AAAAAAAAAAI/AAAAAAAAHzg/6SjI9zzbbYg/s64/photo.jpg",
      "userId": "16704968411796438469"
     },
     "user_tz": -330
    },
    "id": "tN71Xr0zj-lB",
    "outputId": "6986476e-dae6-4450-85f0-807d43902177"
   },
   "outputs": [
    {
     "data": {
      "text/html": [
       "<div>\n",
       "<style scoped>\n",
       "    .dataframe tbody tr th:only-of-type {\n",
       "        vertical-align: middle;\n",
       "    }\n",
       "\n",
       "    .dataframe tbody tr th {\n",
       "        vertical-align: top;\n",
       "    }\n",
       "\n",
       "    .dataframe thead th {\n",
       "        text-align: right;\n",
       "    }\n",
       "</style>\n",
       "<table border=\"1\" class=\"dataframe\">\n",
       "  <thead>\n",
       "    <tr style=\"text-align: right;\">\n",
       "      <th></th>\n",
       "      <th>id</th>\n",
       "      <th>season</th>\n",
       "      <th>dl_applied</th>\n",
       "      <th>win_by_runs</th>\n",
       "      <th>win_by_wickets</th>\n",
       "    </tr>\n",
       "  </thead>\n",
       "  <tbody>\n",
       "    <tr>\n",
       "      <th>count</th>\n",
       "      <td>756.000000</td>\n",
       "      <td>756.000000</td>\n",
       "      <td>756.000000</td>\n",
       "      <td>756.000000</td>\n",
       "      <td>756.000000</td>\n",
       "    </tr>\n",
       "    <tr>\n",
       "      <th>mean</th>\n",
       "      <td>378.500000</td>\n",
       "      <td>2013.444444</td>\n",
       "      <td>0.025132</td>\n",
       "      <td>13.283069</td>\n",
       "      <td>3.350529</td>\n",
       "    </tr>\n",
       "    <tr>\n",
       "      <th>std</th>\n",
       "      <td>218.382692</td>\n",
       "      <td>3.366895</td>\n",
       "      <td>0.156630</td>\n",
       "      <td>23.471144</td>\n",
       "      <td>3.387963</td>\n",
       "    </tr>\n",
       "    <tr>\n",
       "      <th>min</th>\n",
       "      <td>1.000000</td>\n",
       "      <td>2008.000000</td>\n",
       "      <td>0.000000</td>\n",
       "      <td>0.000000</td>\n",
       "      <td>0.000000</td>\n",
       "    </tr>\n",
       "    <tr>\n",
       "      <th>25%</th>\n",
       "      <td>189.750000</td>\n",
       "      <td>2011.000000</td>\n",
       "      <td>0.000000</td>\n",
       "      <td>0.000000</td>\n",
       "      <td>0.000000</td>\n",
       "    </tr>\n",
       "    <tr>\n",
       "      <th>50%</th>\n",
       "      <td>378.500000</td>\n",
       "      <td>2013.000000</td>\n",
       "      <td>0.000000</td>\n",
       "      <td>0.000000</td>\n",
       "      <td>4.000000</td>\n",
       "    </tr>\n",
       "    <tr>\n",
       "      <th>75%</th>\n",
       "      <td>567.250000</td>\n",
       "      <td>2016.000000</td>\n",
       "      <td>0.000000</td>\n",
       "      <td>19.000000</td>\n",
       "      <td>6.000000</td>\n",
       "    </tr>\n",
       "    <tr>\n",
       "      <th>max</th>\n",
       "      <td>756.000000</td>\n",
       "      <td>2019.000000</td>\n",
       "      <td>1.000000</td>\n",
       "      <td>146.000000</td>\n",
       "      <td>10.000000</td>\n",
       "    </tr>\n",
       "  </tbody>\n",
       "</table>\n",
       "</div>"
      ],
      "text/plain": [
       "               id       season  dl_applied  win_by_runs  win_by_wickets\n",
       "count  756.000000   756.000000  756.000000   756.000000      756.000000\n",
       "mean   378.500000  2013.444444    0.025132    13.283069        3.350529\n",
       "std    218.382692     3.366895    0.156630    23.471144        3.387963\n",
       "min      1.000000  2008.000000    0.000000     0.000000        0.000000\n",
       "25%    189.750000  2011.000000    0.000000     0.000000        0.000000\n",
       "50%    378.500000  2013.000000    0.000000     0.000000        4.000000\n",
       "75%    567.250000  2016.000000    0.000000    19.000000        6.000000\n",
       "max    756.000000  2019.000000    1.000000   146.000000       10.000000"
      ]
     },
     "execution_count": 57,
     "metadata": {},
     "output_type": "execute_result"
    }
   ],
   "source": [
    "matches.describe()"
   ]
  },
  {
   "cell_type": "markdown",
   "metadata": {
    "id": "Y5Lp5cyOj-lD"
   },
   "source": [
    "\n",
    "And the final level of this basic information retrieval is to see a couple of actual rows of the input dataset using the method **`head()`**."
   ]
  },
  {
   "cell_type": "markdown",
   "metadata": {
    "id": "2Xo9YM7qj-lE"
   },
   "source": [
    " Let's see each unique team"
   ]
  },
  {
   "cell_type": "code",
   "execution_count": 58,
   "metadata": {
    "colab": {
     "base_uri": "https://localhost:8080/",
     "height": 121
    },
    "executionInfo": {
     "elapsed": 8475,
     "status": "ok",
     "timestamp": 1601651964254,
     "user": {
      "displayName": "Yash Shinde",
      "photoUrl": "https://lh5.googleusercontent.com/-8f8D8TQVBv8/AAAAAAAAAAI/AAAAAAAAHzg/6SjI9zzbbYg/s64/photo.jpg",
      "userId": "16704968411796438469"
     },
     "user_tz": -330
    },
    "id": "nxaZkZ8hj-lE",
    "outputId": "a710eb7e-cdbb-4a73-d2dd-fcba421e3c74"
   },
   "outputs": [
    {
     "data": {
      "text/plain": [
       "array(['Kolkata Knight Riders', 'Chennai Super Kings', 'Rajasthan Royals',\n",
       "       'Mumbai Indians', 'Deccan Chargers', 'Kings XI Punjab',\n",
       "       'Royal Challengers Bangalore', 'Delhi Daredevils',\n",
       "       'Kochi Tuskers Kerala', 'Pune Warriors', 'Sunrisers Hyderabad',\n",
       "       'Rising Pune Supergiants', 'Gujarat Lions',\n",
       "       'Rising Pune Supergiant', 'Delhi Capitals'], dtype=object)"
      ]
     },
     "execution_count": 58,
     "metadata": {},
     "output_type": "execute_result"
    }
   ],
   "source": [
    "matches.team1.unique()"
   ]
  },
  {
   "cell_type": "markdown",
   "metadata": {
    "id": "v62eo6nkj-lG"
   },
   "source": [
    "It can be seen that there is a redundancy here.Teams like ***`Rising Pune Supergiants`*** and ***`Rising Pune Supergiant`*** and ***`Delhi Daredevils`*** and ***`Delhi Capitals`*** points to same teams but yet two different entries are visible due to addition of 's'. So,let's correct the error.\n",
    "There will be three columns where the fix will be required-\n",
    "\n",
    "1. In team1 column\n",
    "2. In team2 column\n",
    "3. In winner column\n",
    "4. In toss winner column"
   ]
  },
  {
   "cell_type": "code",
   "execution_count": 59,
   "metadata": {
    "executionInfo": {
     "elapsed": 8451,
     "status": "ok",
     "timestamp": 1601651964256,
     "user": {
      "displayName": "Yash Shinde",
      "photoUrl": "https://lh5.googleusercontent.com/-8f8D8TQVBv8/AAAAAAAAAAI/AAAAAAAAHzg/6SjI9zzbbYg/s64/photo.jpg",
      "userId": "16704968411796438469"
     },
     "user_tz": -330
    },
    "id": "bUZDoUkbj-lH"
   },
   "outputs": [],
   "source": [
    "matches.team1.replace({'Rising Pune Supergiants' : 'Rising Pune Supergiant', 'Delhi Daredevils':'Delhi Capitals'},inplace=True)\n",
    "matches.team2.replace({'Rising Pune Supergiants' : 'Rising Pune Supergiant', 'Delhi Daredevils':'Delhi Capitals'},inplace=True)\n",
    "matches.winner.replace({'Rising Pune Supergiants' : 'Rising Pune Supergiant', 'Delhi Daredevils':'Delhi Capitals'},inplace=True)\n",
    "matches.toss_winner.replace({'Rising Pune Supergiants' : 'Rising Pune Supergiant', 'Delhi Daredevils':'Delhi Capitals'},inplace=True)"
   ]
  },
  {
   "cell_type": "code",
   "execution_count": 60,
   "metadata": {
    "colab": {
     "base_uri": "https://localhost:8080/",
     "height": 104
    },
    "executionInfo": {
     "elapsed": 8414,
     "status": "ok",
     "timestamp": 1601651964257,
     "user": {
      "displayName": "Yash Shinde",
      "photoUrl": "https://lh5.googleusercontent.com/-8f8D8TQVBv8/AAAAAAAAAAI/AAAAAAAAHzg/6SjI9zzbbYg/s64/photo.jpg",
      "userId": "16704968411796438469"
     },
     "user_tz": -330
    },
    "id": "PXc1an3Fj-lJ",
    "outputId": "590c5bbe-b825-48da-aa12-9bc0a1883ef1"
   },
   "outputs": [
    {
     "data": {
      "text/plain": [
       "array(['Kolkata Knight Riders', 'Chennai Super Kings', 'Rajasthan Royals',\n",
       "       'Mumbai Indians', 'Deccan Chargers', 'Kings XI Punjab',\n",
       "       'Royal Challengers Bangalore', 'Delhi Capitals',\n",
       "       'Kochi Tuskers Kerala', 'Pune Warriors', 'Sunrisers Hyderabad',\n",
       "       'Rising Pune Supergiant', 'Gujarat Lions'], dtype=object)"
      ]
     },
     "execution_count": 60,
     "metadata": {},
     "output_type": "execute_result"
    }
   ],
   "source": [
    "matches.team1.unique()"
   ]
  },
  {
   "cell_type": "code",
   "execution_count": 61,
   "metadata": {
    "colab": {
     "base_uri": "https://localhost:8080/",
     "height": 430
    },
    "executionInfo": {
     "elapsed": 8389,
     "status": "ok",
     "timestamp": 1601651964258,
     "user": {
      "displayName": "Yash Shinde",
      "photoUrl": "https://lh5.googleusercontent.com/-8f8D8TQVBv8/AAAAAAAAAAI/AAAAAAAAHzg/6SjI9zzbbYg/s64/photo.jpg",
      "userId": "16704968411796438469"
     },
     "user_tz": -330
    },
    "id": "eZGT5CfHj-lL",
    "outputId": "30eca5f2-cce4-4542-a32c-f248834cc6f2"
   },
   "outputs": [
    {
     "data": {
      "text/html": [
       "<div>\n",
       "<style scoped>\n",
       "    .dataframe tbody tr th:only-of-type {\n",
       "        vertical-align: middle;\n",
       "    }\n",
       "\n",
       "    .dataframe tbody tr th {\n",
       "        vertical-align: top;\n",
       "    }\n",
       "\n",
       "    .dataframe thead th {\n",
       "        text-align: right;\n",
       "    }\n",
       "</style>\n",
       "<table border=\"1\" class=\"dataframe\">\n",
       "  <thead>\n",
       "    <tr style=\"text-align: right;\">\n",
       "      <th></th>\n",
       "      <th>id</th>\n",
       "      <th>season</th>\n",
       "      <th>city</th>\n",
       "      <th>date</th>\n",
       "      <th>team1</th>\n",
       "      <th>team2</th>\n",
       "      <th>toss_winner</th>\n",
       "      <th>toss_decision</th>\n",
       "      <th>result</th>\n",
       "      <th>dl_applied</th>\n",
       "      <th>winner</th>\n",
       "      <th>win_by_runs</th>\n",
       "      <th>win_by_wickets</th>\n",
       "      <th>player_of_match</th>\n",
       "      <th>venue</th>\n",
       "      <th>umpire1</th>\n",
       "      <th>umpire2</th>\n",
       "      <th>umpire3</th>\n",
       "    </tr>\n",
       "  </thead>\n",
       "  <tbody>\n",
       "    <tr>\n",
       "      <th>0</th>\n",
       "      <td>1</td>\n",
       "      <td>2008</td>\n",
       "      <td>Bangalore</td>\n",
       "      <td>18-04-08</td>\n",
       "      <td>Kolkata Knight Riders</td>\n",
       "      <td>Royal Challengers Bangalore</td>\n",
       "      <td>Royal Challengers Bangalore</td>\n",
       "      <td>field</td>\n",
       "      <td>normal</td>\n",
       "      <td>0</td>\n",
       "      <td>Kolkata Knight Riders</td>\n",
       "      <td>140</td>\n",
       "      <td>0</td>\n",
       "      <td>BB McCullum</td>\n",
       "      <td>M Chinnaswamy Stadium</td>\n",
       "      <td>Asad Rauf</td>\n",
       "      <td>RE Koertzen</td>\n",
       "      <td>NaN</td>\n",
       "    </tr>\n",
       "    <tr>\n",
       "      <th>1</th>\n",
       "      <td>2</td>\n",
       "      <td>2008</td>\n",
       "      <td>Chandigarh</td>\n",
       "      <td>19-04-08</td>\n",
       "      <td>Chennai Super Kings</td>\n",
       "      <td>Kings XI Punjab</td>\n",
       "      <td>Chennai Super Kings</td>\n",
       "      <td>bat</td>\n",
       "      <td>normal</td>\n",
       "      <td>0</td>\n",
       "      <td>Chennai Super Kings</td>\n",
       "      <td>33</td>\n",
       "      <td>0</td>\n",
       "      <td>MEK Hussey</td>\n",
       "      <td>Punjab Cricket Association Stadium, Mohali</td>\n",
       "      <td>MR Benson</td>\n",
       "      <td>SL Shastri</td>\n",
       "      <td>NaN</td>\n",
       "    </tr>\n",
       "    <tr>\n",
       "      <th>2</th>\n",
       "      <td>3</td>\n",
       "      <td>2008</td>\n",
       "      <td>Delhi</td>\n",
       "      <td>19-04-08</td>\n",
       "      <td>Rajasthan Royals</td>\n",
       "      <td>Delhi Capitals</td>\n",
       "      <td>Rajasthan Royals</td>\n",
       "      <td>bat</td>\n",
       "      <td>normal</td>\n",
       "      <td>0</td>\n",
       "      <td>Delhi Capitals</td>\n",
       "      <td>0</td>\n",
       "      <td>9</td>\n",
       "      <td>MF Maharoof</td>\n",
       "      <td>Feroz Shah Kotla</td>\n",
       "      <td>Aleem Dar</td>\n",
       "      <td>GA Pratapkumar</td>\n",
       "      <td>NaN</td>\n",
       "    </tr>\n",
       "    <tr>\n",
       "      <th>3</th>\n",
       "      <td>4</td>\n",
       "      <td>2008</td>\n",
       "      <td>Mumbai</td>\n",
       "      <td>20-04-08</td>\n",
       "      <td>Mumbai Indians</td>\n",
       "      <td>Royal Challengers Bangalore</td>\n",
       "      <td>Mumbai Indians</td>\n",
       "      <td>bat</td>\n",
       "      <td>normal</td>\n",
       "      <td>0</td>\n",
       "      <td>Royal Challengers Bangalore</td>\n",
       "      <td>0</td>\n",
       "      <td>5</td>\n",
       "      <td>MV Boucher</td>\n",
       "      <td>Wankhede Stadium</td>\n",
       "      <td>SJ Davis</td>\n",
       "      <td>DJ Harper</td>\n",
       "      <td>NaN</td>\n",
       "    </tr>\n",
       "    <tr>\n",
       "      <th>4</th>\n",
       "      <td>5</td>\n",
       "      <td>2008</td>\n",
       "      <td>Kolkata</td>\n",
       "      <td>20-04-08</td>\n",
       "      <td>Deccan Chargers</td>\n",
       "      <td>Kolkata Knight Riders</td>\n",
       "      <td>Deccan Chargers</td>\n",
       "      <td>bat</td>\n",
       "      <td>normal</td>\n",
       "      <td>0</td>\n",
       "      <td>Kolkata Knight Riders</td>\n",
       "      <td>0</td>\n",
       "      <td>5</td>\n",
       "      <td>DJ Hussey</td>\n",
       "      <td>Eden Gardens</td>\n",
       "      <td>BF Bowden</td>\n",
       "      <td>K Hariharan</td>\n",
       "      <td>NaN</td>\n",
       "    </tr>\n",
       "  </tbody>\n",
       "</table>\n",
       "</div>"
      ],
      "text/plain": [
       "   id  season        city      date                  team1  \\\n",
       "0   1    2008   Bangalore  18-04-08  Kolkata Knight Riders   \n",
       "1   2    2008  Chandigarh  19-04-08    Chennai Super Kings   \n",
       "2   3    2008       Delhi  19-04-08       Rajasthan Royals   \n",
       "3   4    2008      Mumbai  20-04-08         Mumbai Indians   \n",
       "4   5    2008     Kolkata  20-04-08        Deccan Chargers   \n",
       "\n",
       "                         team2                  toss_winner toss_decision  \\\n",
       "0  Royal Challengers Bangalore  Royal Challengers Bangalore         field   \n",
       "1              Kings XI Punjab          Chennai Super Kings           bat   \n",
       "2               Delhi Capitals             Rajasthan Royals           bat   \n",
       "3  Royal Challengers Bangalore               Mumbai Indians           bat   \n",
       "4        Kolkata Knight Riders              Deccan Chargers           bat   \n",
       "\n",
       "   result  dl_applied                       winner  win_by_runs  \\\n",
       "0  normal           0        Kolkata Knight Riders          140   \n",
       "1  normal           0          Chennai Super Kings           33   \n",
       "2  normal           0               Delhi Capitals            0   \n",
       "3  normal           0  Royal Challengers Bangalore            0   \n",
       "4  normal           0        Kolkata Knight Riders            0   \n",
       "\n",
       "   win_by_wickets player_of_match                                       venue  \\\n",
       "0               0     BB McCullum                       M Chinnaswamy Stadium   \n",
       "1               0      MEK Hussey  Punjab Cricket Association Stadium, Mohali   \n",
       "2               9     MF Maharoof                            Feroz Shah Kotla   \n",
       "3               5      MV Boucher                            Wankhede Stadium   \n",
       "4               5       DJ Hussey                                Eden Gardens   \n",
       "\n",
       "     umpire1         umpire2 umpire3  \n",
       "0  Asad Rauf     RE Koertzen     NaN  \n",
       "1  MR Benson      SL Shastri     NaN  \n",
       "2  Aleem Dar  GA Pratapkumar     NaN  \n",
       "3   SJ Davis       DJ Harper     NaN  \n",
       "4  BF Bowden     K Hariharan     NaN  "
      ]
     },
     "execution_count": 61,
     "metadata": {},
     "output_type": "execute_result"
    }
   ],
   "source": [
    "matches.head(5)"
   ]
  },
  {
   "cell_type": "markdown",
   "metadata": {
    "id": "lTf-Hr1Vj-lN"
   },
   "source": [
    "Finding the ***`Tied or No result`*** matches in the dataset"
   ]
  },
  {
   "cell_type": "code",
   "execution_count": 62,
   "metadata": {
    "colab": {
     "base_uri": "https://localhost:8080/",
     "height": 970
    },
    "executionInfo": {
     "elapsed": 8361,
     "status": "ok",
     "timestamp": 1601651964259,
     "user": {
      "displayName": "Yash Shinde",
      "photoUrl": "https://lh5.googleusercontent.com/-8f8D8TQVBv8/AAAAAAAAAAI/AAAAAAAAHzg/6SjI9zzbbYg/s64/photo.jpg",
      "userId": "16704968411796438469"
     },
     "user_tz": -330
    },
    "id": "i9-EGeiGj-lN",
    "outputId": "22944793-6b49-4a74-c9b0-72681c528334"
   },
   "outputs": [
    {
     "data": {
      "text/html": [
       "<div>\n",
       "<style scoped>\n",
       "    .dataframe tbody tr th:only-of-type {\n",
       "        vertical-align: middle;\n",
       "    }\n",
       "\n",
       "    .dataframe tbody tr th {\n",
       "        vertical-align: top;\n",
       "    }\n",
       "\n",
       "    .dataframe thead th {\n",
       "        text-align: right;\n",
       "    }\n",
       "</style>\n",
       "<table border=\"1\" class=\"dataframe\">\n",
       "  <thead>\n",
       "    <tr style=\"text-align: right;\">\n",
       "      <th></th>\n",
       "      <th>id</th>\n",
       "      <th>season</th>\n",
       "      <th>city</th>\n",
       "      <th>date</th>\n",
       "      <th>team1</th>\n",
       "      <th>team2</th>\n",
       "      <th>toss_winner</th>\n",
       "      <th>toss_decision</th>\n",
       "      <th>result</th>\n",
       "      <th>dl_applied</th>\n",
       "      <th>winner</th>\n",
       "      <th>win_by_runs</th>\n",
       "      <th>win_by_wickets</th>\n",
       "      <th>player_of_match</th>\n",
       "      <th>venue</th>\n",
       "      <th>umpire1</th>\n",
       "      <th>umpire2</th>\n",
       "      <th>umpire3</th>\n",
       "    </tr>\n",
       "  </thead>\n",
       "  <tbody>\n",
       "    <tr>\n",
       "      <th>66</th>\n",
       "      <td>67</td>\n",
       "      <td>2009</td>\n",
       "      <td>Cape Town</td>\n",
       "      <td>23-04-09</td>\n",
       "      <td>Rajasthan Royals</td>\n",
       "      <td>Kolkata Knight Riders</td>\n",
       "      <td>Kolkata Knight Riders</td>\n",
       "      <td>field</td>\n",
       "      <td>tie</td>\n",
       "      <td>0</td>\n",
       "      <td>Rajasthan Royals</td>\n",
       "      <td>0</td>\n",
       "      <td>0</td>\n",
       "      <td>YK Pathan</td>\n",
       "      <td>Newlands</td>\n",
       "      <td>MR Benson</td>\n",
       "      <td>M Erasmus</td>\n",
       "      <td>NaN</td>\n",
       "    </tr>\n",
       "    <tr>\n",
       "      <th>130</th>\n",
       "      <td>131</td>\n",
       "      <td>2010</td>\n",
       "      <td>Chennai</td>\n",
       "      <td>21-03-10</td>\n",
       "      <td>Kings XI Punjab</td>\n",
       "      <td>Chennai Super Kings</td>\n",
       "      <td>Chennai Super Kings</td>\n",
       "      <td>field</td>\n",
       "      <td>tie</td>\n",
       "      <td>0</td>\n",
       "      <td>Kings XI Punjab</td>\n",
       "      <td>0</td>\n",
       "      <td>0</td>\n",
       "      <td>J Theron</td>\n",
       "      <td>MA Chidambaram Stadium, Chepauk</td>\n",
       "      <td>K Hariharan</td>\n",
       "      <td>DJ Harper</td>\n",
       "      <td>NaN</td>\n",
       "    </tr>\n",
       "    <tr>\n",
       "      <th>241</th>\n",
       "      <td>242</td>\n",
       "      <td>2011</td>\n",
       "      <td>Delhi</td>\n",
       "      <td>21-05-11</td>\n",
       "      <td>Delhi Capitals</td>\n",
       "      <td>Pune Warriors</td>\n",
       "      <td>Delhi Capitals</td>\n",
       "      <td>bat</td>\n",
       "      <td>no result</td>\n",
       "      <td>0</td>\n",
       "      <td>NaN</td>\n",
       "      <td>0</td>\n",
       "      <td>0</td>\n",
       "      <td>NaN</td>\n",
       "      <td>Feroz Shah Kotla</td>\n",
       "      <td>SS Hazare</td>\n",
       "      <td>RJ Tucker</td>\n",
       "      <td>NaN</td>\n",
       "    </tr>\n",
       "    <tr>\n",
       "      <th>328</th>\n",
       "      <td>329</td>\n",
       "      <td>2013</td>\n",
       "      <td>Hyderabad</td>\n",
       "      <td>07-04-13</td>\n",
       "      <td>Royal Challengers Bangalore</td>\n",
       "      <td>Sunrisers Hyderabad</td>\n",
       "      <td>Royal Challengers Bangalore</td>\n",
       "      <td>bat</td>\n",
       "      <td>tie</td>\n",
       "      <td>0</td>\n",
       "      <td>Sunrisers Hyderabad</td>\n",
       "      <td>0</td>\n",
       "      <td>0</td>\n",
       "      <td>GH Vihari</td>\n",
       "      <td>Rajiv Gandhi International Stadium, Uppal</td>\n",
       "      <td>AK Chaudhary</td>\n",
       "      <td>S Ravi</td>\n",
       "      <td>NaN</td>\n",
       "    </tr>\n",
       "    <tr>\n",
       "      <th>341</th>\n",
       "      <td>342</td>\n",
       "      <td>2013</td>\n",
       "      <td>Bangalore</td>\n",
       "      <td>16-04-13</td>\n",
       "      <td>Delhi Capitals</td>\n",
       "      <td>Royal Challengers Bangalore</td>\n",
       "      <td>Royal Challengers Bangalore</td>\n",
       "      <td>field</td>\n",
       "      <td>tie</td>\n",
       "      <td>0</td>\n",
       "      <td>Royal Challengers Bangalore</td>\n",
       "      <td>0</td>\n",
       "      <td>0</td>\n",
       "      <td>V Kohli</td>\n",
       "      <td>M Chinnaswamy Stadium</td>\n",
       "      <td>M Erasmus</td>\n",
       "      <td>VA Kulkarni</td>\n",
       "      <td>NaN</td>\n",
       "    </tr>\n",
       "    <tr>\n",
       "      <th>416</th>\n",
       "      <td>417</td>\n",
       "      <td>2014</td>\n",
       "      <td>Abu Dhabi</td>\n",
       "      <td>29-04-14</td>\n",
       "      <td>Rajasthan Royals</td>\n",
       "      <td>Kolkata Knight Riders</td>\n",
       "      <td>Rajasthan Royals</td>\n",
       "      <td>bat</td>\n",
       "      <td>tie</td>\n",
       "      <td>0</td>\n",
       "      <td>Rajasthan Royals</td>\n",
       "      <td>0</td>\n",
       "      <td>0</td>\n",
       "      <td>JP Faulkner</td>\n",
       "      <td>Sheikh Zayed Stadium</td>\n",
       "      <td>Aleem Dar</td>\n",
       "      <td>AK Chaudhary</td>\n",
       "      <td>NaN</td>\n",
       "    </tr>\n",
       "    <tr>\n",
       "      <th>476</th>\n",
       "      <td>477</td>\n",
       "      <td>2015</td>\n",
       "      <td>Ahmedabad</td>\n",
       "      <td>21-04-15</td>\n",
       "      <td>Rajasthan Royals</td>\n",
       "      <td>Kings XI Punjab</td>\n",
       "      <td>Kings XI Punjab</td>\n",
       "      <td>field</td>\n",
       "      <td>tie</td>\n",
       "      <td>0</td>\n",
       "      <td>Kings XI Punjab</td>\n",
       "      <td>0</td>\n",
       "      <td>0</td>\n",
       "      <td>SE Marsh</td>\n",
       "      <td>Sardar Patel Stadium, Motera</td>\n",
       "      <td>M Erasmus</td>\n",
       "      <td>S Ravi</td>\n",
       "      <td>NaN</td>\n",
       "    </tr>\n",
       "    <tr>\n",
       "      <th>486</th>\n",
       "      <td>487</td>\n",
       "      <td>2015</td>\n",
       "      <td>Bangalore</td>\n",
       "      <td>29-04-15</td>\n",
       "      <td>Royal Challengers Bangalore</td>\n",
       "      <td>Rajasthan Royals</td>\n",
       "      <td>Rajasthan Royals</td>\n",
       "      <td>field</td>\n",
       "      <td>no result</td>\n",
       "      <td>0</td>\n",
       "      <td>NaN</td>\n",
       "      <td>0</td>\n",
       "      <td>0</td>\n",
       "      <td>NaN</td>\n",
       "      <td>M Chinnaswamy Stadium</td>\n",
       "      <td>JD Cloete</td>\n",
       "      <td>PG Pathak</td>\n",
       "      <td>NaN</td>\n",
       "    </tr>\n",
       "    <tr>\n",
       "      <th>511</th>\n",
       "      <td>512</td>\n",
       "      <td>2015</td>\n",
       "      <td>Bangalore</td>\n",
       "      <td>17-05-15</td>\n",
       "      <td>Delhi Capitals</td>\n",
       "      <td>Royal Challengers Bangalore</td>\n",
       "      <td>Royal Challengers Bangalore</td>\n",
       "      <td>field</td>\n",
       "      <td>no result</td>\n",
       "      <td>0</td>\n",
       "      <td>NaN</td>\n",
       "      <td>0</td>\n",
       "      <td>0</td>\n",
       "      <td>NaN</td>\n",
       "      <td>M Chinnaswamy Stadium</td>\n",
       "      <td>HDPK Dharmasena</td>\n",
       "      <td>K Srinivasan</td>\n",
       "      <td>NaN</td>\n",
       "    </tr>\n",
       "    <tr>\n",
       "      <th>610</th>\n",
       "      <td>611</td>\n",
       "      <td>2017</td>\n",
       "      <td>Rajkot</td>\n",
       "      <td>29-04-17</td>\n",
       "      <td>Gujarat Lions</td>\n",
       "      <td>Mumbai Indians</td>\n",
       "      <td>Gujarat Lions</td>\n",
       "      <td>bat</td>\n",
       "      <td>tie</td>\n",
       "      <td>0</td>\n",
       "      <td>Mumbai Indians</td>\n",
       "      <td>0</td>\n",
       "      <td>0</td>\n",
       "      <td>KH Pandya</td>\n",
       "      <td>Saurashtra Cricket Association Stadium</td>\n",
       "      <td>AK Chaudhary</td>\n",
       "      <td>CB Gaffaney</td>\n",
       "      <td>NaN</td>\n",
       "    </tr>\n",
       "    <tr>\n",
       "      <th>705</th>\n",
       "      <td>706</td>\n",
       "      <td>2019</td>\n",
       "      <td>Delhi</td>\n",
       "      <td>30-03-19</td>\n",
       "      <td>Kolkata Knight Riders</td>\n",
       "      <td>Delhi Capitals</td>\n",
       "      <td>Delhi Capitals</td>\n",
       "      <td>field</td>\n",
       "      <td>tie</td>\n",
       "      <td>0</td>\n",
       "      <td>Delhi Capitals</td>\n",
       "      <td>0</td>\n",
       "      <td>0</td>\n",
       "      <td>P Shaw</td>\n",
       "      <td>Feroz Shah Kotla Ground</td>\n",
       "      <td>Anil Dandekar</td>\n",
       "      <td>Nitin Menon</td>\n",
       "      <td>Marais Erasmus</td>\n",
       "    </tr>\n",
       "    <tr>\n",
       "      <th>744</th>\n",
       "      <td>745</td>\n",
       "      <td>2019</td>\n",
       "      <td>Bengaluru</td>\n",
       "      <td>30-04-19</td>\n",
       "      <td>Royal Challengers Bangalore</td>\n",
       "      <td>Rajasthan Royals</td>\n",
       "      <td>Rajasthan Royals</td>\n",
       "      <td>field</td>\n",
       "      <td>no result</td>\n",
       "      <td>0</td>\n",
       "      <td>NaN</td>\n",
       "      <td>0</td>\n",
       "      <td>0</td>\n",
       "      <td>NaN</td>\n",
       "      <td>M. Chinnaswamy Stadium</td>\n",
       "      <td>Nigel Llong</td>\n",
       "      <td>Ulhas Gandhe</td>\n",
       "      <td>Anil Chaudhary</td>\n",
       "    </tr>\n",
       "    <tr>\n",
       "      <th>746</th>\n",
       "      <td>747</td>\n",
       "      <td>2019</td>\n",
       "      <td>Mumbai</td>\n",
       "      <td>02-05-19</td>\n",
       "      <td>Mumbai Indians</td>\n",
       "      <td>Sunrisers Hyderabad</td>\n",
       "      <td>Mumbai Indians</td>\n",
       "      <td>bat</td>\n",
       "      <td>tie</td>\n",
       "      <td>0</td>\n",
       "      <td>Mumbai Indians</td>\n",
       "      <td>0</td>\n",
       "      <td>0</td>\n",
       "      <td>JJ Bumrah</td>\n",
       "      <td>Wankhede Stadium</td>\n",
       "      <td>S Ravi</td>\n",
       "      <td>O Nandan</td>\n",
       "      <td>Nanda Kishore</td>\n",
       "    </tr>\n",
       "  </tbody>\n",
       "</table>\n",
       "</div>"
      ],
      "text/plain": [
       "      id  season       city      date                        team1  \\\n",
       "66    67    2009  Cape Town  23-04-09             Rajasthan Royals   \n",
       "130  131    2010    Chennai  21-03-10              Kings XI Punjab   \n",
       "241  242    2011      Delhi  21-05-11               Delhi Capitals   \n",
       "328  329    2013  Hyderabad  07-04-13  Royal Challengers Bangalore   \n",
       "341  342    2013  Bangalore  16-04-13               Delhi Capitals   \n",
       "416  417    2014  Abu Dhabi  29-04-14             Rajasthan Royals   \n",
       "476  477    2015  Ahmedabad  21-04-15             Rajasthan Royals   \n",
       "486  487    2015  Bangalore  29-04-15  Royal Challengers Bangalore   \n",
       "511  512    2015  Bangalore  17-05-15               Delhi Capitals   \n",
       "610  611    2017     Rajkot  29-04-17                Gujarat Lions   \n",
       "705  706    2019      Delhi  30-03-19        Kolkata Knight Riders   \n",
       "744  745    2019  Bengaluru  30-04-19  Royal Challengers Bangalore   \n",
       "746  747    2019     Mumbai  02-05-19               Mumbai Indians   \n",
       "\n",
       "                           team2                  toss_winner toss_decision  \\\n",
       "66         Kolkata Knight Riders        Kolkata Knight Riders         field   \n",
       "130          Chennai Super Kings          Chennai Super Kings         field   \n",
       "241                Pune Warriors               Delhi Capitals           bat   \n",
       "328          Sunrisers Hyderabad  Royal Challengers Bangalore           bat   \n",
       "341  Royal Challengers Bangalore  Royal Challengers Bangalore         field   \n",
       "416        Kolkata Knight Riders             Rajasthan Royals           bat   \n",
       "476              Kings XI Punjab              Kings XI Punjab         field   \n",
       "486             Rajasthan Royals             Rajasthan Royals         field   \n",
       "511  Royal Challengers Bangalore  Royal Challengers Bangalore         field   \n",
       "610               Mumbai Indians                Gujarat Lions           bat   \n",
       "705               Delhi Capitals               Delhi Capitals         field   \n",
       "744             Rajasthan Royals             Rajasthan Royals         field   \n",
       "746          Sunrisers Hyderabad               Mumbai Indians           bat   \n",
       "\n",
       "        result  dl_applied                       winner  win_by_runs  \\\n",
       "66         tie           0             Rajasthan Royals            0   \n",
       "130        tie           0              Kings XI Punjab            0   \n",
       "241  no result           0                          NaN            0   \n",
       "328        tie           0          Sunrisers Hyderabad            0   \n",
       "341        tie           0  Royal Challengers Bangalore            0   \n",
       "416        tie           0             Rajasthan Royals            0   \n",
       "476        tie           0              Kings XI Punjab            0   \n",
       "486  no result           0                          NaN            0   \n",
       "511  no result           0                          NaN            0   \n",
       "610        tie           0               Mumbai Indians            0   \n",
       "705        tie           0               Delhi Capitals            0   \n",
       "744  no result           0                          NaN            0   \n",
       "746        tie           0               Mumbai Indians            0   \n",
       "\n",
       "     win_by_wickets player_of_match  \\\n",
       "66                0       YK Pathan   \n",
       "130               0        J Theron   \n",
       "241               0             NaN   \n",
       "328               0       GH Vihari   \n",
       "341               0         V Kohli   \n",
       "416               0     JP Faulkner   \n",
       "476               0        SE Marsh   \n",
       "486               0             NaN   \n",
       "511               0             NaN   \n",
       "610               0       KH Pandya   \n",
       "705               0          P Shaw   \n",
       "744               0             NaN   \n",
       "746               0       JJ Bumrah   \n",
       "\n",
       "                                         venue          umpire1       umpire2  \\\n",
       "66                                    Newlands        MR Benson     M Erasmus   \n",
       "130            MA Chidambaram Stadium, Chepauk      K Hariharan     DJ Harper   \n",
       "241                           Feroz Shah Kotla        SS Hazare     RJ Tucker   \n",
       "328  Rajiv Gandhi International Stadium, Uppal     AK Chaudhary        S Ravi   \n",
       "341                      M Chinnaswamy Stadium        M Erasmus   VA Kulkarni   \n",
       "416                       Sheikh Zayed Stadium        Aleem Dar  AK Chaudhary   \n",
       "476               Sardar Patel Stadium, Motera        M Erasmus        S Ravi   \n",
       "486                      M Chinnaswamy Stadium        JD Cloete     PG Pathak   \n",
       "511                      M Chinnaswamy Stadium  HDPK Dharmasena  K Srinivasan   \n",
       "610     Saurashtra Cricket Association Stadium     AK Chaudhary   CB Gaffaney   \n",
       "705                    Feroz Shah Kotla Ground    Anil Dandekar   Nitin Menon   \n",
       "744                     M. Chinnaswamy Stadium      Nigel Llong  Ulhas Gandhe   \n",
       "746                           Wankhede Stadium           S Ravi      O Nandan   \n",
       "\n",
       "            umpire3  \n",
       "66              NaN  \n",
       "130             NaN  \n",
       "241             NaN  \n",
       "328             NaN  \n",
       "341             NaN  \n",
       "416             NaN  \n",
       "476             NaN  \n",
       "486             NaN  \n",
       "511             NaN  \n",
       "610             NaN  \n",
       "705  Marais Erasmus  \n",
       "744  Anil Chaudhary  \n",
       "746   Nanda Kishore  "
      ]
     },
     "execution_count": 62,
     "metadata": {},
     "output_type": "execute_result"
    }
   ],
   "source": [
    "matches[matches.result != 'normal']"
   ]
  },
  {
   "cell_type": "code",
   "execution_count": 63,
   "metadata": {
    "executionInfo": {
     "elapsed": 8330,
     "status": "ok",
     "timestamp": 1601651964260,
     "user": {
      "displayName": "Yash Shinde",
      "photoUrl": "https://lh5.googleusercontent.com/-8f8D8TQVBv8/AAAAAAAAAAI/AAAAAAAAHzg/6SjI9zzbbYg/s64/photo.jpg",
      "userId": "16704968411796438469"
     },
     "user_tz": -330
    },
    "id": "xaG2xkIGj-lP"
   },
   "outputs": [],
   "source": [
    "import jovian"
   ]
  },
  {
   "cell_type": "code",
   "execution_count": 64,
   "metadata": {
    "colab": {
     "base_uri": "https://localhost:8080/",
     "height": 87
    },
    "executionInfo": {
     "elapsed": 10355,
     "status": "ok",
     "timestamp": 1601651966306,
     "user": {
      "displayName": "Yash Shinde",
      "photoUrl": "https://lh5.googleusercontent.com/-8f8D8TQVBv8/AAAAAAAAAAI/AAAAAAAAHzg/6SjI9zzbbYg/s64/photo.jpg",
      "userId": "16704968411796438469"
     },
     "user_tz": -330
    },
    "id": "9pqtiravj-lS",
    "outputId": "fc2871c5-bc46-4ad8-dd8c-98498659cb9e"
   },
   "outputs": [
    {
     "data": {
      "application/javascript": [
       "window.require && require([\"base/js/namespace\"],function(Jupyter){Jupyter.notebook.save_checkpoint()})"
      ],
      "text/plain": [
       "<IPython.core.display.Javascript object>"
      ]
     },
     "metadata": {},
     "output_type": "display_data"
    },
    {
     "name": "stdout",
     "output_type": "stream",
     "text": [
      "[jovian] Attempting to save notebook..\u001b[0m\n",
      "[jovian] Updating notebook \"uayashu145/ipl-analysis\" on https://jovian.ml/\u001b[0m\n",
      "[jovian] Uploading notebook..\u001b[0m\n",
      "[jovian] Capturing environment..\u001b[0m\n",
      "[jovian] Committed successfully! https://jovian.ml/uayashu145/ipl-analysis\u001b[0m\n"
     ]
    },
    {
     "data": {
      "text/plain": [
       "'https://jovian.ml/uayashu145/ipl-analysis'"
      ]
     },
     "execution_count": 64,
     "metadata": {},
     "output_type": "execute_result"
    }
   ],
   "source": [
    "jovian.commit(project=project_name)"
   ]
  },
  {
   "cell_type": "markdown",
   "metadata": {
    "id": "mvt2l-fYj-lT"
   },
   "source": [
    "#**Exploratory Analysis and Visualization**\n",
    "\n"
   ]
  },
  {
   "cell_type": "markdown",
   "metadata": {
    "id": "hyqqeADWj-lU"
   },
   "source": [
    "Now let's start to analyze & study the given dataset and findout various results and usefull information."
   ]
  },
  {
   "cell_type": "markdown",
   "metadata": {
    "id": "UUwe9omEj-lU"
   },
   "source": [
    "##**How many matches we’ve got in the dataset?**\n",
    "As we’ve seen above, ***`id`*** is a variable that counts each observation in the data while each observation is a match. So to get the number of matches in our dataset is as same as to get the number of rows in the dataset or maximum value of the variable ***`id`***."
   ]
  },
  {
   "cell_type": "code",
   "execution_count": 65,
   "metadata": {
    "colab": {
     "base_uri": "https://localhost:8080/",
     "height": 35
    },
    "executionInfo": {
     "elapsed": 10337,
     "status": "ok",
     "timestamp": 1601651966310,
     "user": {
      "displayName": "Yash Shinde",
      "photoUrl": "https://lh5.googleusercontent.com/-8f8D8TQVBv8/AAAAAAAAAAI/AAAAAAAAHzg/6SjI9zzbbYg/s64/photo.jpg",
      "userId": "16704968411796438469"
     },
     "user_tz": -330
    },
    "id": "dXANd7S-j-lV",
    "outputId": "dc10f6c4-04b7-4ba9-dca7-7edeb72c7306"
   },
   "outputs": [
    {
     "name": "stdout",
     "output_type": "stream",
     "text": [
      "Total no. of matches played-  756\n"
     ]
    }
   ],
   "source": [
    "max_matches = matches['id'].max()\n",
    "print('Total no. of matches played- ', max_matches)"
   ]
  },
  {
   "cell_type": "markdown",
   "metadata": {
    "id": "n1Ufg59Rj-lW"
   },
   "source": [
    "##**The Number of matches played in each season?**\n",
    "We can get the number of counts/matches played in each season using ***`value_counts()`***."
   ]
  },
  {
   "cell_type": "code",
   "execution_count": 66,
   "metadata": {
    "colab": {
     "base_uri": "https://localhost:8080/",
     "height": 243
    },
    "executionInfo": {
     "elapsed": 10319,
     "status": "ok",
     "timestamp": 1601651966312,
     "user": {
      "displayName": "Yash Shinde",
      "photoUrl": "https://lh5.googleusercontent.com/-8f8D8TQVBv8/AAAAAAAAAAI/AAAAAAAAHzg/6SjI9zzbbYg/s64/photo.jpg",
      "userId": "16704968411796438469"
     },
     "user_tz": -330
    },
    "id": "mAQhZZXvj-lX",
    "outputId": "4b0c7681-52f8-463e-95d9-33385d4ef5b2"
   },
   "outputs": [
    {
     "data": {
      "text/plain": [
       "2013    76\n",
       "2012    74\n",
       "2011    73\n",
       "2019    60\n",
       "2018    60\n",
       "2016    60\n",
       "2014    60\n",
       "2010    60\n",
       "2017    59\n",
       "2015    59\n",
       "2008    58\n",
       "2009    57\n",
       "Name: season, dtype: int64"
      ]
     },
     "execution_count": 66,
     "metadata": {},
     "output_type": "execute_result"
    }
   ],
   "source": [
    "matches['season'].value_counts()\n"
   ]
  },
  {
   "cell_type": "markdown",
   "metadata": {
    "id": "3S72egplj-la"
   },
   "source": [
    "It's is seen that the ***`IPL 2013`*** season had the most no of matches since most no of teams had participated in that season.  "
   ]
  },
  {
   "cell_type": "markdown",
   "metadata": {
    "id": "CFK5DAqnj-lb"
   },
   "source": [
    "##**Tied matches or matches with no result**"
   ]
  },
  {
   "cell_type": "code",
   "execution_count": 67,
   "metadata": {
    "colab": {
     "base_uri": "https://localhost:8080/",
     "height": 970
    },
    "executionInfo": {
     "elapsed": 10300,
     "status": "ok",
     "timestamp": 1601651966315,
     "user": {
      "displayName": "Yash Shinde",
      "photoUrl": "https://lh5.googleusercontent.com/-8f8D8TQVBv8/AAAAAAAAAAI/AAAAAAAAHzg/6SjI9zzbbYg/s64/photo.jpg",
      "userId": "16704968411796438469"
     },
     "user_tz": -330
    },
    "id": "wRSxiW85j-lb",
    "outputId": "485d2c15-333d-4b72-cb01-052f02c9a58f",
    "scrolled": true
   },
   "outputs": [
    {
     "data": {
      "text/html": [
       "<div>\n",
       "<style scoped>\n",
       "    .dataframe tbody tr th:only-of-type {\n",
       "        vertical-align: middle;\n",
       "    }\n",
       "\n",
       "    .dataframe tbody tr th {\n",
       "        vertical-align: top;\n",
       "    }\n",
       "\n",
       "    .dataframe thead th {\n",
       "        text-align: right;\n",
       "    }\n",
       "</style>\n",
       "<table border=\"1\" class=\"dataframe\">\n",
       "  <thead>\n",
       "    <tr style=\"text-align: right;\">\n",
       "      <th></th>\n",
       "      <th>id</th>\n",
       "      <th>season</th>\n",
       "      <th>city</th>\n",
       "      <th>date</th>\n",
       "      <th>team1</th>\n",
       "      <th>team2</th>\n",
       "      <th>toss_winner</th>\n",
       "      <th>toss_decision</th>\n",
       "      <th>result</th>\n",
       "      <th>dl_applied</th>\n",
       "      <th>winner</th>\n",
       "      <th>win_by_runs</th>\n",
       "      <th>win_by_wickets</th>\n",
       "      <th>player_of_match</th>\n",
       "      <th>venue</th>\n",
       "      <th>umpire1</th>\n",
       "      <th>umpire2</th>\n",
       "      <th>umpire3</th>\n",
       "    </tr>\n",
       "  </thead>\n",
       "  <tbody>\n",
       "    <tr>\n",
       "      <th>66</th>\n",
       "      <td>67</td>\n",
       "      <td>2009</td>\n",
       "      <td>Cape Town</td>\n",
       "      <td>23-04-09</td>\n",
       "      <td>Rajasthan Royals</td>\n",
       "      <td>Kolkata Knight Riders</td>\n",
       "      <td>Kolkata Knight Riders</td>\n",
       "      <td>field</td>\n",
       "      <td>tie</td>\n",
       "      <td>0</td>\n",
       "      <td>Rajasthan Royals</td>\n",
       "      <td>0</td>\n",
       "      <td>0</td>\n",
       "      <td>YK Pathan</td>\n",
       "      <td>Newlands</td>\n",
       "      <td>MR Benson</td>\n",
       "      <td>M Erasmus</td>\n",
       "      <td>NaN</td>\n",
       "    </tr>\n",
       "    <tr>\n",
       "      <th>130</th>\n",
       "      <td>131</td>\n",
       "      <td>2010</td>\n",
       "      <td>Chennai</td>\n",
       "      <td>21-03-10</td>\n",
       "      <td>Kings XI Punjab</td>\n",
       "      <td>Chennai Super Kings</td>\n",
       "      <td>Chennai Super Kings</td>\n",
       "      <td>field</td>\n",
       "      <td>tie</td>\n",
       "      <td>0</td>\n",
       "      <td>Kings XI Punjab</td>\n",
       "      <td>0</td>\n",
       "      <td>0</td>\n",
       "      <td>J Theron</td>\n",
       "      <td>MA Chidambaram Stadium, Chepauk</td>\n",
       "      <td>K Hariharan</td>\n",
       "      <td>DJ Harper</td>\n",
       "      <td>NaN</td>\n",
       "    </tr>\n",
       "    <tr>\n",
       "      <th>241</th>\n",
       "      <td>242</td>\n",
       "      <td>2011</td>\n",
       "      <td>Delhi</td>\n",
       "      <td>21-05-11</td>\n",
       "      <td>Delhi Capitals</td>\n",
       "      <td>Pune Warriors</td>\n",
       "      <td>Delhi Capitals</td>\n",
       "      <td>bat</td>\n",
       "      <td>no result</td>\n",
       "      <td>0</td>\n",
       "      <td>NaN</td>\n",
       "      <td>0</td>\n",
       "      <td>0</td>\n",
       "      <td>NaN</td>\n",
       "      <td>Feroz Shah Kotla</td>\n",
       "      <td>SS Hazare</td>\n",
       "      <td>RJ Tucker</td>\n",
       "      <td>NaN</td>\n",
       "    </tr>\n",
       "    <tr>\n",
       "      <th>328</th>\n",
       "      <td>329</td>\n",
       "      <td>2013</td>\n",
       "      <td>Hyderabad</td>\n",
       "      <td>07-04-13</td>\n",
       "      <td>Royal Challengers Bangalore</td>\n",
       "      <td>Sunrisers Hyderabad</td>\n",
       "      <td>Royal Challengers Bangalore</td>\n",
       "      <td>bat</td>\n",
       "      <td>tie</td>\n",
       "      <td>0</td>\n",
       "      <td>Sunrisers Hyderabad</td>\n",
       "      <td>0</td>\n",
       "      <td>0</td>\n",
       "      <td>GH Vihari</td>\n",
       "      <td>Rajiv Gandhi International Stadium, Uppal</td>\n",
       "      <td>AK Chaudhary</td>\n",
       "      <td>S Ravi</td>\n",
       "      <td>NaN</td>\n",
       "    </tr>\n",
       "    <tr>\n",
       "      <th>341</th>\n",
       "      <td>342</td>\n",
       "      <td>2013</td>\n",
       "      <td>Bangalore</td>\n",
       "      <td>16-04-13</td>\n",
       "      <td>Delhi Capitals</td>\n",
       "      <td>Royal Challengers Bangalore</td>\n",
       "      <td>Royal Challengers Bangalore</td>\n",
       "      <td>field</td>\n",
       "      <td>tie</td>\n",
       "      <td>0</td>\n",
       "      <td>Royal Challengers Bangalore</td>\n",
       "      <td>0</td>\n",
       "      <td>0</td>\n",
       "      <td>V Kohli</td>\n",
       "      <td>M Chinnaswamy Stadium</td>\n",
       "      <td>M Erasmus</td>\n",
       "      <td>VA Kulkarni</td>\n",
       "      <td>NaN</td>\n",
       "    </tr>\n",
       "    <tr>\n",
       "      <th>416</th>\n",
       "      <td>417</td>\n",
       "      <td>2014</td>\n",
       "      <td>Abu Dhabi</td>\n",
       "      <td>29-04-14</td>\n",
       "      <td>Rajasthan Royals</td>\n",
       "      <td>Kolkata Knight Riders</td>\n",
       "      <td>Rajasthan Royals</td>\n",
       "      <td>bat</td>\n",
       "      <td>tie</td>\n",
       "      <td>0</td>\n",
       "      <td>Rajasthan Royals</td>\n",
       "      <td>0</td>\n",
       "      <td>0</td>\n",
       "      <td>JP Faulkner</td>\n",
       "      <td>Sheikh Zayed Stadium</td>\n",
       "      <td>Aleem Dar</td>\n",
       "      <td>AK Chaudhary</td>\n",
       "      <td>NaN</td>\n",
       "    </tr>\n",
       "    <tr>\n",
       "      <th>476</th>\n",
       "      <td>477</td>\n",
       "      <td>2015</td>\n",
       "      <td>Ahmedabad</td>\n",
       "      <td>21-04-15</td>\n",
       "      <td>Rajasthan Royals</td>\n",
       "      <td>Kings XI Punjab</td>\n",
       "      <td>Kings XI Punjab</td>\n",
       "      <td>field</td>\n",
       "      <td>tie</td>\n",
       "      <td>0</td>\n",
       "      <td>Kings XI Punjab</td>\n",
       "      <td>0</td>\n",
       "      <td>0</td>\n",
       "      <td>SE Marsh</td>\n",
       "      <td>Sardar Patel Stadium, Motera</td>\n",
       "      <td>M Erasmus</td>\n",
       "      <td>S Ravi</td>\n",
       "      <td>NaN</td>\n",
       "    </tr>\n",
       "    <tr>\n",
       "      <th>486</th>\n",
       "      <td>487</td>\n",
       "      <td>2015</td>\n",
       "      <td>Bangalore</td>\n",
       "      <td>29-04-15</td>\n",
       "      <td>Royal Challengers Bangalore</td>\n",
       "      <td>Rajasthan Royals</td>\n",
       "      <td>Rajasthan Royals</td>\n",
       "      <td>field</td>\n",
       "      <td>no result</td>\n",
       "      <td>0</td>\n",
       "      <td>NaN</td>\n",
       "      <td>0</td>\n",
       "      <td>0</td>\n",
       "      <td>NaN</td>\n",
       "      <td>M Chinnaswamy Stadium</td>\n",
       "      <td>JD Cloete</td>\n",
       "      <td>PG Pathak</td>\n",
       "      <td>NaN</td>\n",
       "    </tr>\n",
       "    <tr>\n",
       "      <th>511</th>\n",
       "      <td>512</td>\n",
       "      <td>2015</td>\n",
       "      <td>Bangalore</td>\n",
       "      <td>17-05-15</td>\n",
       "      <td>Delhi Capitals</td>\n",
       "      <td>Royal Challengers Bangalore</td>\n",
       "      <td>Royal Challengers Bangalore</td>\n",
       "      <td>field</td>\n",
       "      <td>no result</td>\n",
       "      <td>0</td>\n",
       "      <td>NaN</td>\n",
       "      <td>0</td>\n",
       "      <td>0</td>\n",
       "      <td>NaN</td>\n",
       "      <td>M Chinnaswamy Stadium</td>\n",
       "      <td>HDPK Dharmasena</td>\n",
       "      <td>K Srinivasan</td>\n",
       "      <td>NaN</td>\n",
       "    </tr>\n",
       "    <tr>\n",
       "      <th>610</th>\n",
       "      <td>611</td>\n",
       "      <td>2017</td>\n",
       "      <td>Rajkot</td>\n",
       "      <td>29-04-17</td>\n",
       "      <td>Gujarat Lions</td>\n",
       "      <td>Mumbai Indians</td>\n",
       "      <td>Gujarat Lions</td>\n",
       "      <td>bat</td>\n",
       "      <td>tie</td>\n",
       "      <td>0</td>\n",
       "      <td>Mumbai Indians</td>\n",
       "      <td>0</td>\n",
       "      <td>0</td>\n",
       "      <td>KH Pandya</td>\n",
       "      <td>Saurashtra Cricket Association Stadium</td>\n",
       "      <td>AK Chaudhary</td>\n",
       "      <td>CB Gaffaney</td>\n",
       "      <td>NaN</td>\n",
       "    </tr>\n",
       "    <tr>\n",
       "      <th>705</th>\n",
       "      <td>706</td>\n",
       "      <td>2019</td>\n",
       "      <td>Delhi</td>\n",
       "      <td>30-03-19</td>\n",
       "      <td>Kolkata Knight Riders</td>\n",
       "      <td>Delhi Capitals</td>\n",
       "      <td>Delhi Capitals</td>\n",
       "      <td>field</td>\n",
       "      <td>tie</td>\n",
       "      <td>0</td>\n",
       "      <td>Delhi Capitals</td>\n",
       "      <td>0</td>\n",
       "      <td>0</td>\n",
       "      <td>P Shaw</td>\n",
       "      <td>Feroz Shah Kotla Ground</td>\n",
       "      <td>Anil Dandekar</td>\n",
       "      <td>Nitin Menon</td>\n",
       "      <td>Marais Erasmus</td>\n",
       "    </tr>\n",
       "    <tr>\n",
       "      <th>744</th>\n",
       "      <td>745</td>\n",
       "      <td>2019</td>\n",
       "      <td>Bengaluru</td>\n",
       "      <td>30-04-19</td>\n",
       "      <td>Royal Challengers Bangalore</td>\n",
       "      <td>Rajasthan Royals</td>\n",
       "      <td>Rajasthan Royals</td>\n",
       "      <td>field</td>\n",
       "      <td>no result</td>\n",
       "      <td>0</td>\n",
       "      <td>NaN</td>\n",
       "      <td>0</td>\n",
       "      <td>0</td>\n",
       "      <td>NaN</td>\n",
       "      <td>M. Chinnaswamy Stadium</td>\n",
       "      <td>Nigel Llong</td>\n",
       "      <td>Ulhas Gandhe</td>\n",
       "      <td>Anil Chaudhary</td>\n",
       "    </tr>\n",
       "    <tr>\n",
       "      <th>746</th>\n",
       "      <td>747</td>\n",
       "      <td>2019</td>\n",
       "      <td>Mumbai</td>\n",
       "      <td>02-05-19</td>\n",
       "      <td>Mumbai Indians</td>\n",
       "      <td>Sunrisers Hyderabad</td>\n",
       "      <td>Mumbai Indians</td>\n",
       "      <td>bat</td>\n",
       "      <td>tie</td>\n",
       "      <td>0</td>\n",
       "      <td>Mumbai Indians</td>\n",
       "      <td>0</td>\n",
       "      <td>0</td>\n",
       "      <td>JJ Bumrah</td>\n",
       "      <td>Wankhede Stadium</td>\n",
       "      <td>S Ravi</td>\n",
       "      <td>O Nandan</td>\n",
       "      <td>Nanda Kishore</td>\n",
       "    </tr>\n",
       "  </tbody>\n",
       "</table>\n",
       "</div>"
      ],
      "text/plain": [
       "      id  season       city      date                        team1  \\\n",
       "66    67    2009  Cape Town  23-04-09             Rajasthan Royals   \n",
       "130  131    2010    Chennai  21-03-10              Kings XI Punjab   \n",
       "241  242    2011      Delhi  21-05-11               Delhi Capitals   \n",
       "328  329    2013  Hyderabad  07-04-13  Royal Challengers Bangalore   \n",
       "341  342    2013  Bangalore  16-04-13               Delhi Capitals   \n",
       "416  417    2014  Abu Dhabi  29-04-14             Rajasthan Royals   \n",
       "476  477    2015  Ahmedabad  21-04-15             Rajasthan Royals   \n",
       "486  487    2015  Bangalore  29-04-15  Royal Challengers Bangalore   \n",
       "511  512    2015  Bangalore  17-05-15               Delhi Capitals   \n",
       "610  611    2017     Rajkot  29-04-17                Gujarat Lions   \n",
       "705  706    2019      Delhi  30-03-19        Kolkata Knight Riders   \n",
       "744  745    2019  Bengaluru  30-04-19  Royal Challengers Bangalore   \n",
       "746  747    2019     Mumbai  02-05-19               Mumbai Indians   \n",
       "\n",
       "                           team2                  toss_winner toss_decision  \\\n",
       "66         Kolkata Knight Riders        Kolkata Knight Riders         field   \n",
       "130          Chennai Super Kings          Chennai Super Kings         field   \n",
       "241                Pune Warriors               Delhi Capitals           bat   \n",
       "328          Sunrisers Hyderabad  Royal Challengers Bangalore           bat   \n",
       "341  Royal Challengers Bangalore  Royal Challengers Bangalore         field   \n",
       "416        Kolkata Knight Riders             Rajasthan Royals           bat   \n",
       "476              Kings XI Punjab              Kings XI Punjab         field   \n",
       "486             Rajasthan Royals             Rajasthan Royals         field   \n",
       "511  Royal Challengers Bangalore  Royal Challengers Bangalore         field   \n",
       "610               Mumbai Indians                Gujarat Lions           bat   \n",
       "705               Delhi Capitals               Delhi Capitals         field   \n",
       "744             Rajasthan Royals             Rajasthan Royals         field   \n",
       "746          Sunrisers Hyderabad               Mumbai Indians           bat   \n",
       "\n",
       "        result  dl_applied                       winner  win_by_runs  \\\n",
       "66         tie           0             Rajasthan Royals            0   \n",
       "130        tie           0              Kings XI Punjab            0   \n",
       "241  no result           0                          NaN            0   \n",
       "328        tie           0          Sunrisers Hyderabad            0   \n",
       "341        tie           0  Royal Challengers Bangalore            0   \n",
       "416        tie           0             Rajasthan Royals            0   \n",
       "476        tie           0              Kings XI Punjab            0   \n",
       "486  no result           0                          NaN            0   \n",
       "511  no result           0                          NaN            0   \n",
       "610        tie           0               Mumbai Indians            0   \n",
       "705        tie           0               Delhi Capitals            0   \n",
       "744  no result           0                          NaN            0   \n",
       "746        tie           0               Mumbai Indians            0   \n",
       "\n",
       "     win_by_wickets player_of_match  \\\n",
       "66                0       YK Pathan   \n",
       "130               0        J Theron   \n",
       "241               0             NaN   \n",
       "328               0       GH Vihari   \n",
       "341               0         V Kohli   \n",
       "416               0     JP Faulkner   \n",
       "476               0        SE Marsh   \n",
       "486               0             NaN   \n",
       "511               0             NaN   \n",
       "610               0       KH Pandya   \n",
       "705               0          P Shaw   \n",
       "744               0             NaN   \n",
       "746               0       JJ Bumrah   \n",
       "\n",
       "                                         venue          umpire1       umpire2  \\\n",
       "66                                    Newlands        MR Benson     M Erasmus   \n",
       "130            MA Chidambaram Stadium, Chepauk      K Hariharan     DJ Harper   \n",
       "241                           Feroz Shah Kotla        SS Hazare     RJ Tucker   \n",
       "328  Rajiv Gandhi International Stadium, Uppal     AK Chaudhary        S Ravi   \n",
       "341                      M Chinnaswamy Stadium        M Erasmus   VA Kulkarni   \n",
       "416                       Sheikh Zayed Stadium        Aleem Dar  AK Chaudhary   \n",
       "476               Sardar Patel Stadium, Motera        M Erasmus        S Ravi   \n",
       "486                      M Chinnaswamy Stadium        JD Cloete     PG Pathak   \n",
       "511                      M Chinnaswamy Stadium  HDPK Dharmasena  K Srinivasan   \n",
       "610     Saurashtra Cricket Association Stadium     AK Chaudhary   CB Gaffaney   \n",
       "705                    Feroz Shah Kotla Ground    Anil Dandekar   Nitin Menon   \n",
       "744                     M. Chinnaswamy Stadium      Nigel Llong  Ulhas Gandhe   \n",
       "746                           Wankhede Stadium           S Ravi      O Nandan   \n",
       "\n",
       "            umpire3  \n",
       "66              NaN  \n",
       "130             NaN  \n",
       "241             NaN  \n",
       "328             NaN  \n",
       "341             NaN  \n",
       "416             NaN  \n",
       "476             NaN  \n",
       "486             NaN  \n",
       "511             NaN  \n",
       "610             NaN  \n",
       "705  Marais Erasmus  \n",
       "744  Anil Chaudhary  \n",
       "746   Nanda Kishore  "
      ]
     },
     "execution_count": 67,
     "metadata": {},
     "output_type": "execute_result"
    }
   ],
   "source": [
    "matches[matches.result != 'normal']"
   ]
  },
  {
   "cell_type": "markdown",
   "metadata": {
    "id": "zwxUTgyTj-ld"
   },
   "source": [
    " There were ***`13 matches`*** with the result as ***`a tie(9) or no result(4)`***."
   ]
  },
  {
   "cell_type": "markdown",
   "metadata": {
    "id": "rCp3Nayjj-ld"
   },
   "source": [
    "##**The Number of matches played in each venue?**\n",
    "We can find number of matches played in each venue by again using ***`value_counts()`***."
   ]
  },
  {
   "cell_type": "code",
   "execution_count": 68,
   "metadata": {
    "colab": {
     "base_uri": "https://localhost:8080/",
     "height": 745
    },
    "executionInfo": {
     "elapsed": 10283,
     "status": "ok",
     "timestamp": 1601651966317,
     "user": {
      "displayName": "Yash Shinde",
      "photoUrl": "https://lh5.googleusercontent.com/-8f8D8TQVBv8/AAAAAAAAAAI/AAAAAAAAHzg/6SjI9zzbbYg/s64/photo.jpg",
      "userId": "16704968411796438469"
     },
     "user_tz": -330
    },
    "id": "AdYmTlIIj-le",
    "outputId": "77953539-372e-4024-f26a-352562a8fa4b"
   },
   "outputs": [
    {
     "data": {
      "text/plain": [
       "Eden Gardens                                            77\n",
       "M Chinnaswamy Stadium                                   73\n",
       "Wankhede Stadium                                        73\n",
       "Feroz Shah Kotla                                        67\n",
       "Rajiv Gandhi International Stadium, Uppal               56\n",
       "MA Chidambaram Stadium, Chepauk                         49\n",
       "Sawai Mansingh Stadium                                  47\n",
       "Punjab Cricket Association Stadium, Mohali              35\n",
       "Maharashtra Cricket Association Stadium                 21\n",
       "Dr DY Patil Sports Academy                              17\n",
       "Subrata Roy Sahara Stadium                              17\n",
       "Kingsmead                                               15\n",
       "Punjab Cricket Association IS Bindra Stadium, Mohali    14\n",
       "Sardar Patel Stadium, Motera                            12\n",
       "SuperSport Park                                         12\n",
       "Dr. Y.S. Rajasekhara Reddy ACA-VDCA Cricket Stadium     11\n",
       "Brabourne Stadium                                       11\n",
       "Saurashtra Cricket Association Stadium                  10\n",
       "Holkar Cricket Stadium                                   9\n",
       "Himachal Pradesh Cricket Association Stadium             9\n",
       "New Wanderers Stadium                                    8\n",
       "M. A. Chidambaram Stadium                                8\n",
       "Rajiv Gandhi Intl. Cricket Stadium                       8\n",
       "JSCA International Stadium Complex                       7\n",
       "IS Bindra Stadium                                        7\n",
       "Dubai International Cricket Stadium                      7\n",
       "St George's Park                                         7\n",
       "Barabati Stadium                                         7\n",
       "Newlands                                                 7\n",
       "M. Chinnaswamy Stadium                                   7\n",
       "Feroz Shah Kotla Ground                                  7\n",
       "Sheikh Zayed Stadium                                     7\n",
       "Sharjah Cricket Stadium                                  6\n",
       "Shaheed Veer Narayan Singh International Stadium         6\n",
       "Nehru Stadium                                            5\n",
       "Green Park                                               4\n",
       "Vidarbha Cricket Association Stadium, Jamtha             3\n",
       "Buffalo Park                                             3\n",
       "De Beers Diamond Oval                                    3\n",
       "ACA-VDCA Stadium                                         2\n",
       "OUTsurance Oval                                          2\n",
       "Name: venue, dtype: int64"
      ]
     },
     "execution_count": 68,
     "metadata": {},
     "output_type": "execute_result"
    }
   ],
   "source": [
    "matches['venue'].value_counts()"
   ]
  },
  {
   "cell_type": "markdown",
   "metadata": {
    "id": "75wWcjKqj-lf"
   },
   "source": [
    "***`Eden Gardens `*** has hosted the most no of matches i.e ***`77`*** followed by ***`Wankhede Stadium & M Chinnaswamy Stadium (73).`***\n",
    "\n",
    "![](data:image/jpeg;base64,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)"
   ]
  },
  {
   "cell_type": "code",
   "execution_count": 69,
   "metadata": {
    "colab": {
     "base_uri": "https://localhost:8080/",
     "height": 260
    },
    "executionInfo": {
     "elapsed": 10268,
     "status": "ok",
     "timestamp": 1601651966319,
     "user": {
      "displayName": "Yash Shinde",
      "photoUrl": "https://lh5.googleusercontent.com/-8f8D8TQVBv8/AAAAAAAAAAI/AAAAAAAAHzg/6SjI9zzbbYg/s64/photo.jpg",
      "userId": "16704968411796438469"
     },
     "user_tz": -330
    },
    "id": "9YY0-_rWj-lg",
    "outputId": "4aa66421-5c5a-482b-8773-f708c9050ceb"
   },
   "outputs": [
    {
     "data": {
      "text/plain": [
       "Mumbai Indians                 109\n",
       "Chennai Super Kings            100\n",
       "Kolkata Knight Riders           92\n",
       "Royal Challengers Bangalore     84\n",
       "Kings XI Punjab                 82\n",
       "Delhi Capitals                  77\n",
       "Rajasthan Royals                75\n",
       "Sunrisers Hyderabad             58\n",
       "Deccan Chargers                 29\n",
       "Rising Pune Supergiant          15\n",
       "Gujarat Lions                   13\n",
       "Pune Warriors                   12\n",
       "Kochi Tuskers Kerala             6\n",
       "Name: winner, dtype: int64"
      ]
     },
     "execution_count": 69,
     "metadata": {},
     "output_type": "execute_result"
    }
   ],
   "source": [
    "matches['winner'].value_counts()"
   ]
  },
  {
   "cell_type": "markdown",
   "metadata": {
    "id": "6bLAEWYOj-li"
   },
   "source": [
    "***`Mumbai Indians`*** has won most no of matches- **`109`**\n",
    "\n",
    "![](data:image/png;base64,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)"
   ]
  },
  {
   "cell_type": "markdown",
   "metadata": {
    "id": "YPH6ermKj-li"
   },
   "source": [
    "##**Which Team had won by maximum runs?**\n",
    "\n",
    "To answer this question, we can divide the question logically – first we need to find maximum runs, then we can find the row (winning team) with this maximum runs – which would indeed be the team won by maximum runs. I’d like to emphasis here that it’s always important to divide your problem into logical sub-problems or modules and then build Python expressions/codes for those sub-modules finally adding them up to required code that will result in the solution.\n",
    "\n",
    "***`idxmax()`*** will return the id of the maximumth value which in turn is fed into ***`iloc[]`*** that takes an index value and returns the row.\n"
   ]
  },
  {
   "cell_type": "code",
   "execution_count": 70,
   "metadata": {
    "colab": {
     "base_uri": "https://localhost:8080/",
     "height": 347
    },
    "executionInfo": {
     "elapsed": 10251,
     "status": "ok",
     "timestamp": 1601651966322,
     "user": {
      "displayName": "Yash Shinde",
      "photoUrl": "https://lh5.googleusercontent.com/-8f8D8TQVBv8/AAAAAAAAAAI/AAAAAAAAHzg/6SjI9zzbbYg/s64/photo.jpg",
      "userId": "16704968411796438469"
     },
     "user_tz": -330
    },
    "id": "AJRW2jv4j-lj",
    "outputId": "b65ca860-0f25-4764-c4b5-876d55a955d1"
   },
   "outputs": [
    {
     "data": {
      "text/plain": [
       "id                              621\n",
       "season                         2017\n",
       "city                          Delhi\n",
       "date                       06-05-17\n",
       "team1                Mumbai Indians\n",
       "team2                Delhi Capitals\n",
       "toss_winner          Delhi Capitals\n",
       "toss_decision                 field\n",
       "result                       normal\n",
       "dl_applied                        0\n",
       "winner               Mumbai Indians\n",
       "win_by_runs                     146\n",
       "win_by_wickets                    0\n",
       "player_of_match         LMP Simmons\n",
       "venue              Feroz Shah Kotla\n",
       "umpire1                 Nitin Menon\n",
       "umpire2                   CK Nandan\n",
       "umpire3                         NaN\n",
       "Name: 620, dtype: object"
      ]
     },
     "execution_count": 70,
     "metadata": {},
     "output_type": "execute_result"
    }
   ],
   "source": [
    "matches.iloc[matches['win_by_runs'].idxmax()]"
   ]
  },
  {
   "cell_type": "markdown",
   "metadata": {
    "id": "4SpkhNHfj-ll"
   },
   "source": [
    "If we’re interested only in the winning team in that row, then that could be retrieved as below."
   ]
  },
  {
   "cell_type": "code",
   "execution_count": 71,
   "metadata": {
    "colab": {
     "base_uri": "https://localhost:8080/",
     "height": 35
    },
    "executionInfo": {
     "elapsed": 10232,
     "status": "ok",
     "timestamp": 1601651966324,
     "user": {
      "displayName": "Yash Shinde",
      "photoUrl": "https://lh5.googleusercontent.com/-8f8D8TQVBv8/AAAAAAAAAAI/AAAAAAAAHzg/6SjI9zzbbYg/s64/photo.jpg",
      "userId": "16704968411796438469"
     },
     "user_tz": -330
    },
    "id": "GNGGfMQnj-ll",
    "outputId": "08c01cec-2953-45ce-9f56-2634d38ecc25"
   },
   "outputs": [
    {
     "data": {
      "text/plain": [
       "'Mumbai Indians'"
      ]
     },
     "execution_count": 71,
     "metadata": {},
     "output_type": "execute_result"
    }
   ],
   "source": [
    "matches.iloc[matches['win_by_runs'].idxmax()]['winner']"
   ]
  },
  {
   "cell_type": "markdown",
   "metadata": {
    "id": "5r4_VwvXj-ln"
   },
   "source": [
    "***`Mumbai Indians`*** has the record of winning by maximum runs-**`146`**\n",
    "\n",
    "![](data:image/png;base64,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)"
   ]
  },
  {
   "cell_type": "markdown",
   "metadata": {
    "id": "nliBo1lyj-ln"
   },
   "source": [
    "##**Which Team had won by (closest margin) minimum runs?**\n",
    "\n",
    "To know the team that was won by the closest margin, we have to do the opposite of what we’ve done in the above steps. But there’s a caveat in that. In Cricket, if the team that’s batting second wins the match (by chasing), it’ll be said “Team second won by x number of wickets” and if the team that’s bowling second (batted first) wins the match (by defending their score), it’ll be said “Team first won by x number of runs”. Hence, the minimum win by runs will always be 0 and the minimum win by wickets will also always be 0 in a tournament since sometimes chasing team or sometimes the team that batted first could win. To overcome this caveat, we just have to apply a simple workaround as you can see below.\n",
    "\n",
    "Instead of just getting the minimum score (which always would be 0), we have subsetted the data that has win_by_runs greater than or equal to 1 (there by eliminating the zero-issue)."
   ]
  },
  {
   "cell_type": "code",
   "execution_count": 72,
   "metadata": {
    "colab": {
     "base_uri": "https://localhost:8080/",
     "height": 35
    },
    "executionInfo": {
     "elapsed": 10217,
     "status": "ok",
     "timestamp": 1601651966329,
     "user": {
      "displayName": "Yash Shinde",
      "photoUrl": "https://lh5.googleusercontent.com/-8f8D8TQVBv8/AAAAAAAAAAI/AAAAAAAAHzg/6SjI9zzbbYg/s64/photo.jpg",
      "userId": "16704968411796438469"
     },
     "user_tz": -330
    },
    "id": "5DokcPUyj-lo",
    "outputId": "9e7c1a8c-fb85-4162-c49c-d93cfc7d906e"
   },
   "outputs": [
    {
     "data": {
      "text/plain": [
       "'Kings XI Punjab'"
      ]
     },
     "execution_count": 72,
     "metadata": {},
     "output_type": "execute_result"
    }
   ],
   "source": [
    "matches.iloc[matches[matches['win_by_runs'].ge(1)].win_by_runs.idxmin()]['winner']"
   ]
  },
  {
   "cell_type": "markdown",
   "metadata": {
    "id": "3KoJ6cXJj-lp"
   },
   "source": [
    "Even though other teams have won by `1 run` margin, but ***`Kings XI Punjab`*** had done this for the first time. So, we get the result as ***`Kings XI Punjab`***.\n",
    "\n",
    "![](data:image/jpeg;base64,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)"
   ]
  },
  {
   "cell_type": "code",
   "execution_count": 73,
   "metadata": {
    "executionInfo": {
     "elapsed": 10203,
     "status": "ok",
     "timestamp": 1601651966331,
     "user": {
      "displayName": "Yash Shinde",
      "photoUrl": "https://lh5.googleusercontent.com/-8f8D8TQVBv8/AAAAAAAAAAI/AAAAAAAAHzg/6SjI9zzbbYg/s64/photo.jpg",
      "userId": "16704968411796438469"
     },
     "user_tz": -330
    },
    "id": "cQ4ArvE2j-lq"
   },
   "outputs": [],
   "source": [
    "import jovian"
   ]
  },
  {
   "cell_type": "code",
   "execution_count": 74,
   "metadata": {
    "colab": {
     "base_uri": "https://localhost:8080/",
     "height": 87
    },
    "executionInfo": {
     "elapsed": 12788,
     "status": "ok",
     "timestamp": 1601651968929,
     "user": {
      "displayName": "Yash Shinde",
      "photoUrl": "https://lh5.googleusercontent.com/-8f8D8TQVBv8/AAAAAAAAAAI/AAAAAAAAHzg/6SjI9zzbbYg/s64/photo.jpg",
      "userId": "16704968411796438469"
     },
     "user_tz": -330
    },
    "id": "GG5WNQ6zj-ls",
    "outputId": "59de6f03-1674-4c18-b2c2-314a68dd9f95"
   },
   "outputs": [
    {
     "data": {
      "application/javascript": [
       "window.require && require([\"base/js/namespace\"],function(Jupyter){Jupyter.notebook.save_checkpoint()})"
      ],
      "text/plain": [
       "<IPython.core.display.Javascript object>"
      ]
     },
     "metadata": {},
     "output_type": "display_data"
    },
    {
     "name": "stdout",
     "output_type": "stream",
     "text": [
      "[jovian] Attempting to save notebook..\u001b[0m\n",
      "[jovian] Updating notebook \"uayashu145/ipl-analysis\" on https://jovian.ml/\u001b[0m\n",
      "[jovian] Uploading notebook..\u001b[0m\n",
      "[jovian] Capturing environment..\u001b[0m\n",
      "[jovian] Committed successfully! https://jovian.ml/uayashu145/ipl-analysis\u001b[0m\n"
     ]
    },
    {
     "data": {
      "text/plain": [
       "'https://jovian.ml/uayashu145/ipl-analysis'"
      ]
     },
     "execution_count": 74,
     "metadata": {},
     "output_type": "execute_result"
    }
   ],
   "source": [
    "jovian.commit(project=project_name)"
   ]
  },
  {
   "cell_type": "markdown",
   "metadata": {
    "id": "DK56bPQsj-lu"
   },
   "source": [
    "##**Which is the most successful IPL Team?**\n",
    "\n",
    "The most successful IPL team is the team that has won most number of times which also means, answer it to this is to count the number of instances in each winning team."
   ]
  },
  {
   "cell_type": "code",
   "execution_count": 75,
   "metadata": {
    "colab": {
     "base_uri": "https://localhost:8080/",
     "height": 523
    },
    "executionInfo": {
     "elapsed": 12769,
     "status": "ok",
     "timestamp": 1601651968932,
     "user": {
      "displayName": "Yash Shinde",
      "photoUrl": "https://lh5.googleusercontent.com/-8f8D8TQVBv8/AAAAAAAAAAI/AAAAAAAAHzg/6SjI9zzbbYg/s64/photo.jpg",
      "userId": "16704968411796438469"
     },
     "user_tz": -330
    },
    "id": "PJkKHP-2j-lv",
    "outputId": "2ee04d40-aac4-45a8-9e0f-0fb67a4d8b73"
   },
   "outputs": [
    {
     "data": {
      "text/plain": [
       "Text(0, 0.5, 'Teams')"
      ]
     },
     "execution_count": 75,
     "metadata": {},
     "output_type": "execute_result"
    },
    {
     "data": {
      "image/png": "[encoded data removed]",
      "text/plain": [
       "<Figure size 1008x576 with 1 Axes>"
      ]
     },
     "metadata": {
      "needs_background": "light"
     },
     "output_type": "display_data"
    }
   ],
   "source": [
    "\n",
    "data = matches.winner.value_counts()\n",
    "sns.barplot(y = data.index, x = data, orient='h');\n",
    "plt.ylabel('Teams')"
   ]
  },
  {
   "cell_type": "markdown",
   "metadata": {
    "id": "xUNWCv95j-lw"
   },
   "source": [
    "***`Mumbai Indians`*** is the most successful team in the IPL.\n",
    "\n",
    "![](data:image/png;base64,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)"
   ]
  },
  {
   "cell_type": "markdown",
   "metadata": {
    "id": "5xRl5qWhj-lx"
   },
   "source": [
    "## **Who is the  winner of most Man of the Match award amongst all the seasons?**"
   ]
  },
  {
   "cell_type": "code",
   "execution_count": 76,
   "metadata": {
    "colab": {
     "base_uri": "https://localhost:8080/",
     "height": 225
    },
    "executionInfo": {
     "elapsed": 12749,
     "status": "ok",
     "timestamp": 1601651968934,
     "user": {
      "displayName": "Yash Shinde",
      "photoUrl": "https://lh5.googleusercontent.com/-8f8D8TQVBv8/AAAAAAAAAAI/AAAAAAAAHzg/6SjI9zzbbYg/s64/photo.jpg",
      "userId": "16704968411796438469"
     },
     "user_tz": -330
    },
    "id": "sWFyiMxej-lx",
    "outputId": "22f4073f-b0f9-4a3e-9904-ce9d8bdba090"
   },
   "outputs": [
    {
     "data": {
      "text/plain": [
       "CH Gayle          21\n",
       "AB de Villiers    20\n",
       "RG Sharma         17\n",
       "MS Dhoni          17\n",
       "DA Warner         17\n",
       "                  ..\n",
       "Kuldeep Yadav      1\n",
       "SA Asnodkar        1\n",
       "A Singh            1\n",
       "TM Dilshan         1\n",
       "YS Chahal          1\n",
       "Name: player_of_match, Length: 226, dtype: int64"
      ]
     },
     "execution_count": 76,
     "metadata": {},
     "output_type": "execute_result"
    }
   ],
   "source": [
    "matches['player_of_match'].value_counts()"
   ]
  },
  {
   "cell_type": "code",
   "execution_count": 77,
   "metadata": {
    "colab": {
     "base_uri": "https://localhost:8080/",
     "height": 583
    },
    "executionInfo": {
     "elapsed": 13729,
     "status": "ok",
     "timestamp": 1601651969933,
     "user": {
      "displayName": "Yash Shinde",
      "photoUrl": "https://lh5.googleusercontent.com/-8f8D8TQVBv8/AAAAAAAAAAI/AAAAAAAAHzg/6SjI9zzbbYg/s64/photo.jpg",
      "userId": "16704968411796438469"
     },
     "user_tz": -330
    },
    "id": "4HEDlnpWj-lz",
    "outputId": "5125f4ed-0961-4d7a-8f06-591f1db46d35"
   },
   "outputs": [
    {
     "data": {
      "image/png": "[encoded data removed]",
      "text/plain": [
       "<Figure size 1008x576 with 1 Axes>"
      ]
     },
     "metadata": {
      "needs_background": "light"
     },
     "output_type": "display_data"
    }
   ],
   "source": [
    "mom=matches['player_of_match'].value_counts().head(10)\n",
    "sns.barplot(y = mom, x = mom.index, orient='v');\n",
    "plt.xticks(rotation=70);\n",
    "plt.xlabel('Player');"
   ]
  },
  {
   "cell_type": "markdown",
   "metadata": {
    "id": "4p5Gy6oKj-l0"
   },
   "source": [
    "***`Chris Gayle`*** Tops the List with ***`21 MOMs`*** amongst all the players from the above data.\n",
    "\n",
    "![](data:image/jpeg;base64,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)"
   ]
  },
  {
   "cell_type": "markdown",
   "metadata": {
    "id": "rtEQGxv8j-l1"
   },
   "source": [
    "##**Most Toss wins**\n",
    "Let's see which team has won most no of tosses."
   ]
  },
  {
   "cell_type": "code",
   "execution_count": 78,
   "metadata": {
    "colab": {
     "base_uri": "https://localhost:8080/",
     "height": 693
    },
    "executionInfo": {
     "elapsed": 13714,
     "status": "ok",
     "timestamp": 1601651969936,
     "user": {
      "displayName": "Yash Shinde",
      "photoUrl": "https://lh5.googleusercontent.com/-8f8D8TQVBv8/AAAAAAAAAAI/AAAAAAAAHzg/6SjI9zzbbYg/s64/photo.jpg",
      "userId": "16704968411796438469"
     },
     "user_tz": -330
    },
    "id": "_YQNo8Uij-l1",
    "outputId": "071c08de-7015-4f63-b4e8-5cfc8cd98ef3"
   },
   "outputs": [
    {
     "data": {
      "image/png": "[encoded data removed]",
      "text/plain": [
       "<Figure size 1008x576 with 1 Axes>"
      ]
     },
     "metadata": {
      "needs_background": "light"
     },
     "output_type": "display_data"
    }
   ],
   "source": [
    "#tm=matches[matches.toss_winner==matches.winner]\n",
    "t=matches['toss_winner'].value_counts()\n",
    "plt.plot(t,\"bo-\")\n",
    "plt.xlabel('Teams')\n",
    "plt.ylabel('Toss_wins')\n",
    "plt.xticks(rotation=90);"
   ]
  },
  {
   "cell_type": "markdown",
   "metadata": {
    "id": "4iDy2s9gj-l3"
   },
   "source": [
    "Here, too ***`Mumbai Indians`*** stands above all.\n",
    "\n",
    "![](data:image/png;base64,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)"
   ]
  },
  {
   "cell_type": "markdown",
   "metadata": {
    "id": "ldd3zimaj-l3"
   },
   "source": [
    "## **Toss win - Match win?**\n",
    "Let's see the impact of winning toss on the match result\n",
    "\n",
    "![](data:image/jpeg;base64,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)"
   ]
  },
  {
   "cell_type": "code",
   "execution_count": 79,
   "metadata": {
    "colab": {
     "base_uri": "https://localhost:8080/",
     "height": 834
    },
    "executionInfo": {
     "elapsed": 14758,
     "status": "ok",
     "timestamp": 1601651971001,
     "user": {
      "displayName": "Yash Shinde",
      "photoUrl": "https://lh5.googleusercontent.com/-8f8D8TQVBv8/AAAAAAAAAAI/AAAAAAAAHzg/6SjI9zzbbYg/s64/photo.jpg",
      "userId": "16704968411796438469"
     },
     "user_tz": -330
    },
    "id": "JWpEjAQij-l3",
    "outputId": "fb512bfd-4655-4659-ed18-7aefaaaed4e3"
   },
   "outputs": [
    {
     "data": {
      "text/html": [
       "<div>\n",
       "<style scoped>\n",
       "    .dataframe tbody tr th:only-of-type {\n",
       "        vertical-align: middle;\n",
       "    }\n",
       "\n",
       "    .dataframe tbody tr th {\n",
       "        vertical-align: top;\n",
       "    }\n",
       "\n",
       "    .dataframe thead th {\n",
       "        text-align: right;\n",
       "    }\n",
       "</style>\n",
       "<table border=\"1\" class=\"dataframe\">\n",
       "  <thead>\n",
       "    <tr style=\"text-align: right;\">\n",
       "      <th></th>\n",
       "      <th>id</th>\n",
       "      <th>season</th>\n",
       "      <th>city</th>\n",
       "      <th>date</th>\n",
       "      <th>team1</th>\n",
       "      <th>team2</th>\n",
       "      <th>toss_winner</th>\n",
       "      <th>toss_decision</th>\n",
       "      <th>result</th>\n",
       "      <th>dl_applied</th>\n",
       "      <th>winner</th>\n",
       "      <th>win_by_runs</th>\n",
       "      <th>win_by_wickets</th>\n",
       "      <th>player_of_match</th>\n",
       "      <th>venue</th>\n",
       "      <th>umpire1</th>\n",
       "      <th>umpire2</th>\n",
       "      <th>umpire3</th>\n",
       "    </tr>\n",
       "  </thead>\n",
       "  <tbody>\n",
       "    <tr>\n",
       "      <th>1</th>\n",
       "      <td>2</td>\n",
       "      <td>2008</td>\n",
       "      <td>Chandigarh</td>\n",
       "      <td>19-04-08</td>\n",
       "      <td>Chennai Super Kings</td>\n",
       "      <td>Kings XI Punjab</td>\n",
       "      <td>Chennai Super Kings</td>\n",
       "      <td>bat</td>\n",
       "      <td>normal</td>\n",
       "      <td>0</td>\n",
       "      <td>Chennai Super Kings</td>\n",
       "      <td>33</td>\n",
       "      <td>0</td>\n",
       "      <td>MEK Hussey</td>\n",
       "      <td>Punjab Cricket Association Stadium, Mohali</td>\n",
       "      <td>MR Benson</td>\n",
       "      <td>SL Shastri</td>\n",
       "      <td>NaN</td>\n",
       "    </tr>\n",
       "    <tr>\n",
       "      <th>8</th>\n",
       "      <td>9</td>\n",
       "      <td>2008</td>\n",
       "      <td>Hyderabad</td>\n",
       "      <td>24-04-08</td>\n",
       "      <td>Deccan Chargers</td>\n",
       "      <td>Rajasthan Royals</td>\n",
       "      <td>Rajasthan Royals</td>\n",
       "      <td>field</td>\n",
       "      <td>normal</td>\n",
       "      <td>0</td>\n",
       "      <td>Rajasthan Royals</td>\n",
       "      <td>0</td>\n",
       "      <td>3</td>\n",
       "      <td>YK Pathan</td>\n",
       "      <td>Rajiv Gandhi International Stadium, Uppal</td>\n",
       "      <td>Asad Rauf</td>\n",
       "      <td>MR Benson</td>\n",
       "      <td>NaN</td>\n",
       "    </tr>\n",
       "    <tr>\n",
       "      <th>10</th>\n",
       "      <td>11</td>\n",
       "      <td>2008</td>\n",
       "      <td>Bangalore</td>\n",
       "      <td>26-04-08</td>\n",
       "      <td>Royal Challengers Bangalore</td>\n",
       "      <td>Rajasthan Royals</td>\n",
       "      <td>Rajasthan Royals</td>\n",
       "      <td>field</td>\n",
       "      <td>normal</td>\n",
       "      <td>0</td>\n",
       "      <td>Rajasthan Royals</td>\n",
       "      <td>0</td>\n",
       "      <td>7</td>\n",
       "      <td>SR Watson</td>\n",
       "      <td>M Chinnaswamy Stadium</td>\n",
       "      <td>MR Benson</td>\n",
       "      <td>IL Howell</td>\n",
       "      <td>NaN</td>\n",
       "    </tr>\n",
       "    <tr>\n",
       "      <th>12</th>\n",
       "      <td>13</td>\n",
       "      <td>2008</td>\n",
       "      <td>Mumbai</td>\n",
       "      <td>27-04-08</td>\n",
       "      <td>Mumbai Indians</td>\n",
       "      <td>Deccan Chargers</td>\n",
       "      <td>Deccan Chargers</td>\n",
       "      <td>field</td>\n",
       "      <td>normal</td>\n",
       "      <td>0</td>\n",
       "      <td>Deccan Chargers</td>\n",
       "      <td>0</td>\n",
       "      <td>10</td>\n",
       "      <td>AC Gilchrist</td>\n",
       "      <td>Dr DY Patil Sports Academy</td>\n",
       "      <td>Asad Rauf</td>\n",
       "      <td>SL Shastri</td>\n",
       "      <td>NaN</td>\n",
       "    </tr>\n",
       "    <tr>\n",
       "      <th>14</th>\n",
       "      <td>15</td>\n",
       "      <td>2008</td>\n",
       "      <td>Bangalore</td>\n",
       "      <td>28-04-08</td>\n",
       "      <td>Chennai Super Kings</td>\n",
       "      <td>Royal Challengers Bangalore</td>\n",
       "      <td>Chennai Super Kings</td>\n",
       "      <td>bat</td>\n",
       "      <td>normal</td>\n",
       "      <td>0</td>\n",
       "      <td>Chennai Super Kings</td>\n",
       "      <td>13</td>\n",
       "      <td>0</td>\n",
       "      <td>MS Dhoni</td>\n",
       "      <td>M Chinnaswamy Stadium</td>\n",
       "      <td>BR Doctrove</td>\n",
       "      <td>RB Tiffin</td>\n",
       "      <td>NaN</td>\n",
       "    </tr>\n",
       "    <tr>\n",
       "      <th>...</th>\n",
       "      <td>...</td>\n",
       "      <td>...</td>\n",
       "      <td>...</td>\n",
       "      <td>...</td>\n",
       "      <td>...</td>\n",
       "      <td>...</td>\n",
       "      <td>...</td>\n",
       "      <td>...</td>\n",
       "      <td>...</td>\n",
       "      <td>...</td>\n",
       "      <td>...</td>\n",
       "      <td>...</td>\n",
       "      <td>...</td>\n",
       "      <td>...</td>\n",
       "      <td>...</td>\n",
       "      <td>...</td>\n",
       "      <td>...</td>\n",
       "      <td>...</td>\n",
       "    </tr>\n",
       "    <tr>\n",
       "      <th>750</th>\n",
       "      <td>751</td>\n",
       "      <td>2019</td>\n",
       "      <td>Mohali</td>\n",
       "      <td>05-05-19</td>\n",
       "      <td>Chennai Super Kings</td>\n",
       "      <td>Kings XI Punjab</td>\n",
       "      <td>Kings XI Punjab</td>\n",
       "      <td>field</td>\n",
       "      <td>normal</td>\n",
       "      <td>0</td>\n",
       "      <td>Kings XI Punjab</td>\n",
       "      <td>0</td>\n",
       "      <td>6</td>\n",
       "      <td>KL Rahul</td>\n",
       "      <td>IS Bindra Stadium</td>\n",
       "      <td>KN Ananthapadmanabhan</td>\n",
       "      <td>C Shamshuddin</td>\n",
       "      <td>Bruce Oxenford</td>\n",
       "    </tr>\n",
       "    <tr>\n",
       "      <th>751</th>\n",
       "      <td>752</td>\n",
       "      <td>2019</td>\n",
       "      <td>Mumbai</td>\n",
       "      <td>05-05-19</td>\n",
       "      <td>Kolkata Knight Riders</td>\n",
       "      <td>Mumbai Indians</td>\n",
       "      <td>Mumbai Indians</td>\n",
       "      <td>field</td>\n",
       "      <td>normal</td>\n",
       "      <td>0</td>\n",
       "      <td>Mumbai Indians</td>\n",
       "      <td>0</td>\n",
       "      <td>9</td>\n",
       "      <td>HH Pandya</td>\n",
       "      <td>Wankhede Stadium</td>\n",
       "      <td>Nanda Kishore</td>\n",
       "      <td>O Nandan</td>\n",
       "      <td>S Ravi</td>\n",
       "    </tr>\n",
       "    <tr>\n",
       "      <th>753</th>\n",
       "      <td>754</td>\n",
       "      <td>2019</td>\n",
       "      <td>Visakhapatnam</td>\n",
       "      <td>08-05-19</td>\n",
       "      <td>Sunrisers Hyderabad</td>\n",
       "      <td>Delhi Capitals</td>\n",
       "      <td>Delhi Capitals</td>\n",
       "      <td>field</td>\n",
       "      <td>normal</td>\n",
       "      <td>0</td>\n",
       "      <td>Delhi Capitals</td>\n",
       "      <td>0</td>\n",
       "      <td>2</td>\n",
       "      <td>RR Pant</td>\n",
       "      <td>ACA-VDCA Stadium</td>\n",
       "      <td>NaN</td>\n",
       "      <td>NaN</td>\n",
       "      <td>NaN</td>\n",
       "    </tr>\n",
       "    <tr>\n",
       "      <th>754</th>\n",
       "      <td>755</td>\n",
       "      <td>2019</td>\n",
       "      <td>Visakhapatnam</td>\n",
       "      <td>10-05-19</td>\n",
       "      <td>Delhi Capitals</td>\n",
       "      <td>Chennai Super Kings</td>\n",
       "      <td>Chennai Super Kings</td>\n",
       "      <td>field</td>\n",
       "      <td>normal</td>\n",
       "      <td>0</td>\n",
       "      <td>Chennai Super Kings</td>\n",
       "      <td>0</td>\n",
       "      <td>6</td>\n",
       "      <td>F du Plessis</td>\n",
       "      <td>ACA-VDCA Stadium</td>\n",
       "      <td>Sundaram Ravi</td>\n",
       "      <td>Bruce Oxenford</td>\n",
       "      <td>Chettithody Shamshuddin</td>\n",
       "    </tr>\n",
       "    <tr>\n",
       "      <th>755</th>\n",
       "      <td>756</td>\n",
       "      <td>2019</td>\n",
       "      <td>Hyderabad</td>\n",
       "      <td>12-05-19</td>\n",
       "      <td>Mumbai Indians</td>\n",
       "      <td>Chennai Super Kings</td>\n",
       "      <td>Mumbai Indians</td>\n",
       "      <td>bat</td>\n",
       "      <td>normal</td>\n",
       "      <td>0</td>\n",
       "      <td>Mumbai Indians</td>\n",
       "      <td>1</td>\n",
       "      <td>0</td>\n",
       "      <td>JJ Bumrah</td>\n",
       "      <td>Rajiv Gandhi Intl. Cricket Stadium</td>\n",
       "      <td>Nitin Menon</td>\n",
       "      <td>Ian Gould</td>\n",
       "      <td>Nigel Llong</td>\n",
       "    </tr>\n",
       "  </tbody>\n",
       "</table>\n",
       "<p>393 rows × 18 columns</p>\n",
       "</div>"
      ],
      "text/plain": [
       "      id  season           city      date                        team1  \\\n",
       "1      2    2008     Chandigarh  19-04-08          Chennai Super Kings   \n",
       "8      9    2008      Hyderabad  24-04-08              Deccan Chargers   \n",
       "10    11    2008      Bangalore  26-04-08  Royal Challengers Bangalore   \n",
       "12    13    2008         Mumbai  27-04-08               Mumbai Indians   \n",
       "14    15    2008      Bangalore  28-04-08          Chennai Super Kings   \n",
       "..   ...     ...            ...       ...                          ...   \n",
       "750  751    2019         Mohali  05-05-19          Chennai Super Kings   \n",
       "751  752    2019         Mumbai  05-05-19        Kolkata Knight Riders   \n",
       "753  754    2019  Visakhapatnam  08-05-19          Sunrisers Hyderabad   \n",
       "754  755    2019  Visakhapatnam  10-05-19               Delhi Capitals   \n",
       "755  756    2019      Hyderabad  12-05-19               Mumbai Indians   \n",
       "\n",
       "                           team2          toss_winner toss_decision  result  \\\n",
       "1                Kings XI Punjab  Chennai Super Kings           bat  normal   \n",
       "8               Rajasthan Royals     Rajasthan Royals         field  normal   \n",
       "10              Rajasthan Royals     Rajasthan Royals         field  normal   \n",
       "12               Deccan Chargers      Deccan Chargers         field  normal   \n",
       "14   Royal Challengers Bangalore  Chennai Super Kings           bat  normal   \n",
       "..                           ...                  ...           ...     ...   \n",
       "750              Kings XI Punjab      Kings XI Punjab         field  normal   \n",
       "751               Mumbai Indians       Mumbai Indians         field  normal   \n",
       "753               Delhi Capitals       Delhi Capitals         field  normal   \n",
       "754          Chennai Super Kings  Chennai Super Kings         field  normal   \n",
       "755          Chennai Super Kings       Mumbai Indians           bat  normal   \n",
       "\n",
       "     dl_applied               winner  win_by_runs  win_by_wickets  \\\n",
       "1             0  Chennai Super Kings           33               0   \n",
       "8             0     Rajasthan Royals            0               3   \n",
       "10            0     Rajasthan Royals            0               7   \n",
       "12            0      Deccan Chargers            0              10   \n",
       "14            0  Chennai Super Kings           13               0   \n",
       "..          ...                  ...          ...             ...   \n",
       "750           0      Kings XI Punjab            0               6   \n",
       "751           0       Mumbai Indians            0               9   \n",
       "753           0       Delhi Capitals            0               2   \n",
       "754           0  Chennai Super Kings            0               6   \n",
       "755           0       Mumbai Indians            1               0   \n",
       "\n",
       "    player_of_match                                       venue  \\\n",
       "1        MEK Hussey  Punjab Cricket Association Stadium, Mohali   \n",
       "8         YK Pathan   Rajiv Gandhi International Stadium, Uppal   \n",
       "10        SR Watson                       M Chinnaswamy Stadium   \n",
       "12     AC Gilchrist                  Dr DY Patil Sports Academy   \n",
       "14         MS Dhoni                       M Chinnaswamy Stadium   \n",
       "..              ...                                         ...   \n",
       "750        KL Rahul                           IS Bindra Stadium   \n",
       "751       HH Pandya                            Wankhede Stadium   \n",
       "753         RR Pant                            ACA-VDCA Stadium   \n",
       "754    F du Plessis                            ACA-VDCA Stadium   \n",
       "755       JJ Bumrah          Rajiv Gandhi Intl. Cricket Stadium   \n",
       "\n",
       "                   umpire1         umpire2                  umpire3  \n",
       "1                MR Benson      SL Shastri                      NaN  \n",
       "8                Asad Rauf       MR Benson                      NaN  \n",
       "10               MR Benson       IL Howell                      NaN  \n",
       "12               Asad Rauf      SL Shastri                      NaN  \n",
       "14             BR Doctrove       RB Tiffin                      NaN  \n",
       "..                     ...             ...                      ...  \n",
       "750  KN Ananthapadmanabhan   C Shamshuddin           Bruce Oxenford  \n",
       "751          Nanda Kishore        O Nandan                   S Ravi  \n",
       "753                    NaN             NaN                      NaN  \n",
       "754          Sundaram Ravi  Bruce Oxenford  Chettithody Shamshuddin  \n",
       "755            Nitin Menon       Ian Gould              Nigel Llong  \n",
       "\n",
       "[393 rows x 18 columns]"
      ]
     },
     "execution_count": 79,
     "metadata": {},
     "output_type": "execute_result"
    }
   ],
   "source": [
    "toss_winner = matches[matches['toss_winner']==matches['winner']]\n",
    "toss_winner"
   ]
  },
  {
   "cell_type": "code",
   "execution_count": 80,
   "metadata": {
    "colab": {
     "base_uri": "https://localhost:8080/",
     "height": 35
    },
    "executionInfo": {
     "elapsed": 14741,
     "status": "ok",
     "timestamp": 1601651971003,
     "user": {
      "displayName": "Yash Shinde",
      "photoUrl": "https://lh5.googleusercontent.com/-8f8D8TQVBv8/AAAAAAAAAAI/AAAAAAAAHzg/6SjI9zzbbYg/s64/photo.jpg",
      "userId": "16704968411796438469"
     },
     "user_tz": -330
    },
    "id": "eAXFwJh1j-l5",
    "outputId": "ed05c000-aabd-4d62-e05f-844066d3505b"
   },
   "outputs": [
    {
     "name": "stdout",
     "output_type": "stream",
     "text": [
      "There are 393 matches in IPL played till now where toss winner is the winner of the match.\n"
     ]
    }
   ],
   "source": [
    "print('There are {} matches in IPL played till now where toss winner is the winner of the match.'.format(toss_winner.id.count()))"
   ]
  },
  {
   "cell_type": "code",
   "execution_count": 81,
   "metadata": {
    "colab": {
     "base_uri": "https://localhost:8080/",
     "height": 466
    },
    "executionInfo": {
     "elapsed": 14725,
     "status": "ok",
     "timestamp": 1601651971005,
     "user": {
      "displayName": "Yash Shinde",
      "photoUrl": "https://lh5.googleusercontent.com/-8f8D8TQVBv8/AAAAAAAAAAI/AAAAAAAAHzg/6SjI9zzbbYg/s64/photo.jpg",
      "userId": "16704968411796438469"
     },
     "user_tz": -330
    },
    "id": "k2Ix2wJxj-l7",
    "outputId": "ac68c972-3ce2-4e6e-c076-ddccfcd995d6"
   },
   "outputs": [
    {
     "data": {
      "image/png": "[encoded data removed]",
      "text/plain": [
       "<Figure size 1008x576 with 1 Axes>"
      ]
     },
     "metadata": {},
     "output_type": "display_data"
    }
   ],
   "source": [
    "fig1,ax1 = plt.subplots()\n",
    "labels = ['Toss won,match won','Toss won,match lost']\n",
    "sizes=[toss_winner.id.count(),(max_matches-toss_winner.id.count())]\n",
    "explode = (0.1, 0) \n",
    "ax1.pie(sizes, explode=explode, labels=labels, autopct='%1.1f%%',shadow=True, startangle=90)\n",
    "plt.show()"
   ]
  },
  {
   "cell_type": "markdown",
   "metadata": {
    "id": "sczD0WyLj-l9"
   },
   "source": [
    "It can be seen that impact of winning the toss has an almost ***`Equal amount`*** of impact on the result of match.\n",
    "So, it can be said that winning toss doesn't necessarily creates an impact on the result of match. "
   ]
  },
  {
   "cell_type": "markdown",
   "metadata": {
    "id": "U9_YXKdfj-l-"
   },
   "source": [
    "# **The MI VS CSK Battle!!!**\n",
    "Let's now see the stats related to MI vs CSK \n",
    "\n",
    "![](https://encrypted-tbn0.gstatic.com/images?q=tbn%3AANd9GcRA9ywYq1afSZ9yV5rE0tRLZcHra9mT4JfkTQ&usqp=CAU)"
   ]
  },
  {
   "cell_type": "code",
   "execution_count": 82,
   "metadata": {
    "colab": {
     "base_uri": "https://localhost:8080/",
     "height": 1000
    },
    "executionInfo": {
     "elapsed": 14710,
     "status": "ok",
     "timestamp": 1601651971008,
     "user": {
      "displayName": "Yash Shinde",
      "photoUrl": "https://lh5.googleusercontent.com/-8f8D8TQVBv8/AAAAAAAAAAI/AAAAAAAAHzg/6SjI9zzbbYg/s64/photo.jpg",
      "userId": "16704968411796438469"
     },
     "user_tz": -330
    },
    "id": "BJIAvCK3j-l-",
    "outputId": "ee1cf42d-0a8a-430a-8f32-c2f40385a02a"
   },
   "outputs": [
    {
     "data": {
      "text/html": [
       "<div>\n",
       "<style scoped>\n",
       "    .dataframe tbody tr th:only-of-type {\n",
       "        vertical-align: middle;\n",
       "    }\n",
       "\n",
       "    .dataframe tbody tr th {\n",
       "        vertical-align: top;\n",
       "    }\n",
       "\n",
       "    .dataframe thead th {\n",
       "        text-align: right;\n",
       "    }\n",
       "</style>\n",
       "<table border=\"1\" class=\"dataframe\">\n",
       "  <thead>\n",
       "    <tr style=\"text-align: right;\">\n",
       "      <th></th>\n",
       "      <th>id</th>\n",
       "      <th>season</th>\n",
       "      <th>city</th>\n",
       "      <th>date</th>\n",
       "      <th>team1</th>\n",
       "      <th>team2</th>\n",
       "      <th>toss_winner</th>\n",
       "      <th>toss_decision</th>\n",
       "      <th>result</th>\n",
       "      <th>dl_applied</th>\n",
       "      <th>winner</th>\n",
       "      <th>win_by_runs</th>\n",
       "      <th>win_by_wickets</th>\n",
       "      <th>player_of_match</th>\n",
       "      <th>venue</th>\n",
       "      <th>umpire1</th>\n",
       "      <th>umpire2</th>\n",
       "      <th>umpire3</th>\n",
       "    </tr>\n",
       "  </thead>\n",
       "  <tbody>\n",
       "    <tr>\n",
       "      <th>7</th>\n",
       "      <td>8</td>\n",
       "      <td>2008</td>\n",
       "      <td>Chennai</td>\n",
       "      <td>23-04-08</td>\n",
       "      <td>Chennai Super Kings</td>\n",
       "      <td>Mumbai Indians</td>\n",
       "      <td>Mumbai Indians</td>\n",
       "      <td>field</td>\n",
       "      <td>normal</td>\n",
       "      <td>0</td>\n",
       "      <td>Chennai Super Kings</td>\n",
       "      <td>6</td>\n",
       "      <td>0</td>\n",
       "      <td>ML Hayden</td>\n",
       "      <td>MA Chidambaram Stadium, Chepauk</td>\n",
       "      <td>DJ Harper</td>\n",
       "      <td>GA Pratapkumar</td>\n",
       "      <td>NaN</td>\n",
       "    </tr>\n",
       "    <tr>\n",
       "      <th>36</th>\n",
       "      <td>37</td>\n",
       "      <td>2008</td>\n",
       "      <td>Mumbai</td>\n",
       "      <td>14-05-08</td>\n",
       "      <td>Chennai Super Kings</td>\n",
       "      <td>Mumbai Indians</td>\n",
       "      <td>Mumbai Indians</td>\n",
       "      <td>field</td>\n",
       "      <td>normal</td>\n",
       "      <td>0</td>\n",
       "      <td>Mumbai Indians</td>\n",
       "      <td>0</td>\n",
       "      <td>9</td>\n",
       "      <td>ST Jayasuriya</td>\n",
       "      <td>Wankhede Stadium</td>\n",
       "      <td>BR Doctrove</td>\n",
       "      <td>AM Saheba</td>\n",
       "      <td>NaN</td>\n",
       "    </tr>\n",
       "    <tr>\n",
       "      <th>58</th>\n",
       "      <td>59</td>\n",
       "      <td>2009</td>\n",
       "      <td>Cape Town</td>\n",
       "      <td>18-04-09</td>\n",
       "      <td>Mumbai Indians</td>\n",
       "      <td>Chennai Super Kings</td>\n",
       "      <td>Chennai Super Kings</td>\n",
       "      <td>field</td>\n",
       "      <td>normal</td>\n",
       "      <td>0</td>\n",
       "      <td>Mumbai Indians</td>\n",
       "      <td>19</td>\n",
       "      <td>0</td>\n",
       "      <td>SR Tendulkar</td>\n",
       "      <td>Newlands</td>\n",
       "      <td>BR Doctrove</td>\n",
       "      <td>K Hariharan</td>\n",
       "      <td>NaN</td>\n",
       "    </tr>\n",
       "    <tr>\n",
       "      <th>102</th>\n",
       "      <td>103</td>\n",
       "      <td>2009</td>\n",
       "      <td>Port Elizabeth</td>\n",
       "      <td>16-05-09</td>\n",
       "      <td>Mumbai Indians</td>\n",
       "      <td>Chennai Super Kings</td>\n",
       "      <td>Mumbai Indians</td>\n",
       "      <td>bat</td>\n",
       "      <td>normal</td>\n",
       "      <td>0</td>\n",
       "      <td>Chennai Super Kings</td>\n",
       "      <td>0</td>\n",
       "      <td>7</td>\n",
       "      <td>ML Hayden</td>\n",
       "      <td>St George's Park</td>\n",
       "      <td>SK Tarapore</td>\n",
       "      <td>SJA Taufel</td>\n",
       "      <td>NaN</td>\n",
       "    </tr>\n",
       "    <tr>\n",
       "      <th>134</th>\n",
       "      <td>135</td>\n",
       "      <td>2010</td>\n",
       "      <td>Mumbai</td>\n",
       "      <td>25-03-10</td>\n",
       "      <td>Chennai Super Kings</td>\n",
       "      <td>Mumbai Indians</td>\n",
       "      <td>Mumbai Indians</td>\n",
       "      <td>field</td>\n",
       "      <td>normal</td>\n",
       "      <td>0</td>\n",
       "      <td>Mumbai Indians</td>\n",
       "      <td>0</td>\n",
       "      <td>5</td>\n",
       "      <td>SR Tendulkar</td>\n",
       "      <td>Brabourne Stadium</td>\n",
       "      <td>BF Bowden</td>\n",
       "      <td>AM Saheba</td>\n",
       "      <td>NaN</td>\n",
       "    </tr>\n",
       "    <tr>\n",
       "      <th>151</th>\n",
       "      <td>152</td>\n",
       "      <td>2010</td>\n",
       "      <td>Chennai</td>\n",
       "      <td>06-04-10</td>\n",
       "      <td>Chennai Super Kings</td>\n",
       "      <td>Mumbai Indians</td>\n",
       "      <td>Chennai Super Kings</td>\n",
       "      <td>bat</td>\n",
       "      <td>normal</td>\n",
       "      <td>0</td>\n",
       "      <td>Chennai Super Kings</td>\n",
       "      <td>24</td>\n",
       "      <td>0</td>\n",
       "      <td>SK Raina</td>\n",
       "      <td>MA Chidambaram Stadium, Chepauk</td>\n",
       "      <td>S Asnani</td>\n",
       "      <td>DJ Harper</td>\n",
       "      <td>NaN</td>\n",
       "    </tr>\n",
       "    <tr>\n",
       "      <th>174</th>\n",
       "      <td>175</td>\n",
       "      <td>2010</td>\n",
       "      <td>Mumbai</td>\n",
       "      <td>25-04-10</td>\n",
       "      <td>Chennai Super Kings</td>\n",
       "      <td>Mumbai Indians</td>\n",
       "      <td>Chennai Super Kings</td>\n",
       "      <td>bat</td>\n",
       "      <td>normal</td>\n",
       "      <td>0</td>\n",
       "      <td>Chennai Super Kings</td>\n",
       "      <td>22</td>\n",
       "      <td>0</td>\n",
       "      <td>SK Raina</td>\n",
       "      <td>Dr DY Patil Sports Academy</td>\n",
       "      <td>RE Koertzen</td>\n",
       "      <td>SJA Taufel</td>\n",
       "      <td>NaN</td>\n",
       "    </tr>\n",
       "    <tr>\n",
       "      <th>197</th>\n",
       "      <td>198</td>\n",
       "      <td>2011</td>\n",
       "      <td>Mumbai</td>\n",
       "      <td>22-04-11</td>\n",
       "      <td>Mumbai Indians</td>\n",
       "      <td>Chennai Super Kings</td>\n",
       "      <td>Chennai Super Kings</td>\n",
       "      <td>field</td>\n",
       "      <td>normal</td>\n",
       "      <td>0</td>\n",
       "      <td>Mumbai Indians</td>\n",
       "      <td>8</td>\n",
       "      <td>0</td>\n",
       "      <td>Harbhajan Singh</td>\n",
       "      <td>Wankhede Stadium</td>\n",
       "      <td>Asad Rauf</td>\n",
       "      <td>AM Saheba</td>\n",
       "      <td>NaN</td>\n",
       "    </tr>\n",
       "    <tr>\n",
       "      <th>248</th>\n",
       "      <td>249</td>\n",
       "      <td>2012</td>\n",
       "      <td>Chennai</td>\n",
       "      <td>04-04-12</td>\n",
       "      <td>Chennai Super Kings</td>\n",
       "      <td>Mumbai Indians</td>\n",
       "      <td>Mumbai Indians</td>\n",
       "      <td>field</td>\n",
       "      <td>normal</td>\n",
       "      <td>0</td>\n",
       "      <td>Mumbai Indians</td>\n",
       "      <td>0</td>\n",
       "      <td>8</td>\n",
       "      <td>RE Levi</td>\n",
       "      <td>MA Chidambaram Stadium, Chepauk</td>\n",
       "      <td>JD Cloete</td>\n",
       "      <td>SJA Taufel</td>\n",
       "      <td>NaN</td>\n",
       "    </tr>\n",
       "    <tr>\n",
       "      <th>295</th>\n",
       "      <td>296</td>\n",
       "      <td>2012</td>\n",
       "      <td>Mumbai</td>\n",
       "      <td>06-05-12</td>\n",
       "      <td>Chennai Super Kings</td>\n",
       "      <td>Mumbai Indians</td>\n",
       "      <td>Mumbai Indians</td>\n",
       "      <td>field</td>\n",
       "      <td>normal</td>\n",
       "      <td>0</td>\n",
       "      <td>Mumbai Indians</td>\n",
       "      <td>0</td>\n",
       "      <td>2</td>\n",
       "      <td>DR Smith</td>\n",
       "      <td>Wankhede Stadium</td>\n",
       "      <td>Asad Rauf</td>\n",
       "      <td>S Asnani</td>\n",
       "      <td>NaN</td>\n",
       "    </tr>\n",
       "    <tr>\n",
       "      <th>319</th>\n",
       "      <td>320</td>\n",
       "      <td>2012</td>\n",
       "      <td>Bangalore</td>\n",
       "      <td>23-05-12</td>\n",
       "      <td>Chennai Super Kings</td>\n",
       "      <td>Mumbai Indians</td>\n",
       "      <td>Mumbai Indians</td>\n",
       "      <td>field</td>\n",
       "      <td>normal</td>\n",
       "      <td>0</td>\n",
       "      <td>Chennai Super Kings</td>\n",
       "      <td>38</td>\n",
       "      <td>0</td>\n",
       "      <td>MS Dhoni</td>\n",
       "      <td>M Chinnaswamy Stadium</td>\n",
       "      <td>BF Bowden</td>\n",
       "      <td>HDPK Dharmasena</td>\n",
       "      <td>NaN</td>\n",
       "    </tr>\n",
       "    <tr>\n",
       "      <th>326</th>\n",
       "      <td>327</td>\n",
       "      <td>2013</td>\n",
       "      <td>Chennai</td>\n",
       "      <td>06-04-13</td>\n",
       "      <td>Mumbai Indians</td>\n",
       "      <td>Chennai Super Kings</td>\n",
       "      <td>Mumbai Indians</td>\n",
       "      <td>bat</td>\n",
       "      <td>normal</td>\n",
       "      <td>0</td>\n",
       "      <td>Mumbai Indians</td>\n",
       "      <td>9</td>\n",
       "      <td>0</td>\n",
       "      <td>KA Pollard</td>\n",
       "      <td>MA Chidambaram Stadium, Chepauk</td>\n",
       "      <td>M Erasmus</td>\n",
       "      <td>VA Kulkarni</td>\n",
       "      <td>NaN</td>\n",
       "    </tr>\n",
       "    <tr>\n",
       "      <th>370</th>\n",
       "      <td>371</td>\n",
       "      <td>2013</td>\n",
       "      <td>Mumbai</td>\n",
       "      <td>05-05-13</td>\n",
       "      <td>Mumbai Indians</td>\n",
       "      <td>Chennai Super Kings</td>\n",
       "      <td>Mumbai Indians</td>\n",
       "      <td>bat</td>\n",
       "      <td>normal</td>\n",
       "      <td>0</td>\n",
       "      <td>Mumbai Indians</td>\n",
       "      <td>60</td>\n",
       "      <td>0</td>\n",
       "      <td>MG Johnson</td>\n",
       "      <td>Wankhede Stadium</td>\n",
       "      <td>HDPK Dharmasena</td>\n",
       "      <td>CK Nandan</td>\n",
       "      <td>NaN</td>\n",
       "    </tr>\n",
       "    <tr>\n",
       "      <th>394</th>\n",
       "      <td>395</td>\n",
       "      <td>2013</td>\n",
       "      <td>Delhi</td>\n",
       "      <td>21-05-13</td>\n",
       "      <td>Chennai Super Kings</td>\n",
       "      <td>Mumbai Indians</td>\n",
       "      <td>Chennai Super Kings</td>\n",
       "      <td>bat</td>\n",
       "      <td>normal</td>\n",
       "      <td>0</td>\n",
       "      <td>Chennai Super Kings</td>\n",
       "      <td>48</td>\n",
       "      <td>0</td>\n",
       "      <td>MEK Hussey</td>\n",
       "      <td>Feroz Shah Kotla</td>\n",
       "      <td>NJ Llong</td>\n",
       "      <td>RJ Tucker</td>\n",
       "      <td>NaN</td>\n",
       "    </tr>\n",
       "    <tr>\n",
       "      <th>397</th>\n",
       "      <td>398</td>\n",
       "      <td>2013</td>\n",
       "      <td>Kolkata</td>\n",
       "      <td>26-05-13</td>\n",
       "      <td>Mumbai Indians</td>\n",
       "      <td>Chennai Super Kings</td>\n",
       "      <td>Mumbai Indians</td>\n",
       "      <td>bat</td>\n",
       "      <td>normal</td>\n",
       "      <td>0</td>\n",
       "      <td>Mumbai Indians</td>\n",
       "      <td>23</td>\n",
       "      <td>0</td>\n",
       "      <td>KA Pollard</td>\n",
       "      <td>Eden Gardens</td>\n",
       "      <td>HDPK Dharmasena</td>\n",
       "      <td>SJA Taufel</td>\n",
       "      <td>NaN</td>\n",
       "    </tr>\n",
       "    <tr>\n",
       "      <th>410</th>\n",
       "      <td>411</td>\n",
       "      <td>2014</td>\n",
       "      <td>NaN</td>\n",
       "      <td>25-04-14</td>\n",
       "      <td>Mumbai Indians</td>\n",
       "      <td>Chennai Super Kings</td>\n",
       "      <td>Mumbai Indians</td>\n",
       "      <td>bat</td>\n",
       "      <td>normal</td>\n",
       "      <td>0</td>\n",
       "      <td>Chennai Super Kings</td>\n",
       "      <td>0</td>\n",
       "      <td>7</td>\n",
       "      <td>MM Sharma</td>\n",
       "      <td>Dubai International Cricket Stadium</td>\n",
       "      <td>BF Bowden</td>\n",
       "      <td>M Erasmus</td>\n",
       "      <td>NaN</td>\n",
       "    </tr>\n",
       "    <tr>\n",
       "      <th>430</th>\n",
       "      <td>431</td>\n",
       "      <td>2014</td>\n",
       "      <td>Mumbai</td>\n",
       "      <td>10-05-14</td>\n",
       "      <td>Mumbai Indians</td>\n",
       "      <td>Chennai Super Kings</td>\n",
       "      <td>Chennai Super Kings</td>\n",
       "      <td>field</td>\n",
       "      <td>normal</td>\n",
       "      <td>0</td>\n",
       "      <td>Chennai Super Kings</td>\n",
       "      <td>0</td>\n",
       "      <td>4</td>\n",
       "      <td>DR Smith</td>\n",
       "      <td>Wankhede Stadium</td>\n",
       "      <td>HDPK Dharmasena</td>\n",
       "      <td>VA Kulkarni</td>\n",
       "      <td>NaN</td>\n",
       "    </tr>\n",
       "    <tr>\n",
       "      <th>455</th>\n",
       "      <td>456</td>\n",
       "      <td>2014</td>\n",
       "      <td>Mumbai</td>\n",
       "      <td>28-05-14</td>\n",
       "      <td>Mumbai Indians</td>\n",
       "      <td>Chennai Super Kings</td>\n",
       "      <td>Chennai Super Kings</td>\n",
       "      <td>field</td>\n",
       "      <td>normal</td>\n",
       "      <td>0</td>\n",
       "      <td>Chennai Super Kings</td>\n",
       "      <td>0</td>\n",
       "      <td>7</td>\n",
       "      <td>SK Raina</td>\n",
       "      <td>Brabourne Stadium</td>\n",
       "      <td>VA Kulkarni</td>\n",
       "      <td>BNJ Oxenford</td>\n",
       "      <td>NaN</td>\n",
       "    </tr>\n",
       "    <tr>\n",
       "      <th>470</th>\n",
       "      <td>471</td>\n",
       "      <td>2015</td>\n",
       "      <td>Mumbai</td>\n",
       "      <td>17-04-15</td>\n",
       "      <td>Mumbai Indians</td>\n",
       "      <td>Chennai Super Kings</td>\n",
       "      <td>Mumbai Indians</td>\n",
       "      <td>bat</td>\n",
       "      <td>normal</td>\n",
       "      <td>0</td>\n",
       "      <td>Chennai Super Kings</td>\n",
       "      <td>0</td>\n",
       "      <td>6</td>\n",
       "      <td>A Nehra</td>\n",
       "      <td>Wankhede Stadium</td>\n",
       "      <td>AK Chaudhary</td>\n",
       "      <td>M Erasmus</td>\n",
       "      <td>NaN</td>\n",
       "    </tr>\n",
       "    <tr>\n",
       "      <th>499</th>\n",
       "      <td>500</td>\n",
       "      <td>2015</td>\n",
       "      <td>Chennai</td>\n",
       "      <td>08-05-15</td>\n",
       "      <td>Chennai Super Kings</td>\n",
       "      <td>Mumbai Indians</td>\n",
       "      <td>Chennai Super Kings</td>\n",
       "      <td>bat</td>\n",
       "      <td>normal</td>\n",
       "      <td>0</td>\n",
       "      <td>Mumbai Indians</td>\n",
       "      <td>0</td>\n",
       "      <td>6</td>\n",
       "      <td>HH Pandya</td>\n",
       "      <td>MA Chidambaram Stadium, Chepauk</td>\n",
       "      <td>CB Gaffaney</td>\n",
       "      <td>CK Nandan</td>\n",
       "      <td>NaN</td>\n",
       "    </tr>\n",
       "    <tr>\n",
       "      <th>513</th>\n",
       "      <td>514</td>\n",
       "      <td>2015</td>\n",
       "      <td>Mumbai</td>\n",
       "      <td>19-05-15</td>\n",
       "      <td>Mumbai Indians</td>\n",
       "      <td>Chennai Super Kings</td>\n",
       "      <td>Mumbai Indians</td>\n",
       "      <td>bat</td>\n",
       "      <td>normal</td>\n",
       "      <td>0</td>\n",
       "      <td>Mumbai Indians</td>\n",
       "      <td>25</td>\n",
       "      <td>0</td>\n",
       "      <td>KA Pollard</td>\n",
       "      <td>Wankhede Stadium</td>\n",
       "      <td>HDPK Dharmasena</td>\n",
       "      <td>RK Illingworth</td>\n",
       "      <td>NaN</td>\n",
       "    </tr>\n",
       "    <tr>\n",
       "      <th>516</th>\n",
       "      <td>517</td>\n",
       "      <td>2015</td>\n",
       "      <td>Kolkata</td>\n",
       "      <td>24-05-15</td>\n",
       "      <td>Mumbai Indians</td>\n",
       "      <td>Chennai Super Kings</td>\n",
       "      <td>Chennai Super Kings</td>\n",
       "      <td>field</td>\n",
       "      <td>normal</td>\n",
       "      <td>0</td>\n",
       "      <td>Mumbai Indians</td>\n",
       "      <td>41</td>\n",
       "      <td>0</td>\n",
       "      <td>RG Sharma</td>\n",
       "      <td>Eden Gardens</td>\n",
       "      <td>HDPK Dharmasena</td>\n",
       "      <td>RK Illingworth</td>\n",
       "      <td>NaN</td>\n",
       "    </tr>\n",
       "    <tr>\n",
       "      <th>636</th>\n",
       "      <td>637</td>\n",
       "      <td>2018</td>\n",
       "      <td>Mumbai</td>\n",
       "      <td>07-04-18</td>\n",
       "      <td>Mumbai Indians</td>\n",
       "      <td>Chennai Super Kings</td>\n",
       "      <td>Chennai Super Kings</td>\n",
       "      <td>field</td>\n",
       "      <td>normal</td>\n",
       "      <td>0</td>\n",
       "      <td>Chennai Super Kings</td>\n",
       "      <td>0</td>\n",
       "      <td>1</td>\n",
       "      <td>DJ Bravo</td>\n",
       "      <td>Wankhede Stadium</td>\n",
       "      <td>Chris Gaffaney</td>\n",
       "      <td>A Nanda Kishore</td>\n",
       "      <td>Anil Chaudhary</td>\n",
       "    </tr>\n",
       "    <tr>\n",
       "      <th>662</th>\n",
       "      <td>663</td>\n",
       "      <td>2018</td>\n",
       "      <td>Pune</td>\n",
       "      <td>28-04-18</td>\n",
       "      <td>Chennai Super Kings</td>\n",
       "      <td>Mumbai Indians</td>\n",
       "      <td>Mumbai Indians</td>\n",
       "      <td>field</td>\n",
       "      <td>normal</td>\n",
       "      <td>0</td>\n",
       "      <td>Mumbai Indians</td>\n",
       "      <td>0</td>\n",
       "      <td>8</td>\n",
       "      <td>RG Sharma</td>\n",
       "      <td>Maharashtra Cricket Association Stadium</td>\n",
       "      <td>Chris Gaffaney</td>\n",
       "      <td>Nitin Menon</td>\n",
       "      <td>Anil Dandekar</td>\n",
       "    </tr>\n",
       "    <tr>\n",
       "      <th>710</th>\n",
       "      <td>711</td>\n",
       "      <td>2019</td>\n",
       "      <td>Mumbai</td>\n",
       "      <td>03-04-19</td>\n",
       "      <td>Mumbai Indians</td>\n",
       "      <td>Chennai Super Kings</td>\n",
       "      <td>Chennai Super Kings</td>\n",
       "      <td>field</td>\n",
       "      <td>normal</td>\n",
       "      <td>0</td>\n",
       "      <td>Mumbai Indians</td>\n",
       "      <td>37</td>\n",
       "      <td>0</td>\n",
       "      <td>HH Pandya</td>\n",
       "      <td>Wankhede Stadium</td>\n",
       "      <td>Bruce Oxenford</td>\n",
       "      <td>Rod Tucker</td>\n",
       "      <td>Yeshwant Barde</td>\n",
       "    </tr>\n",
       "    <tr>\n",
       "      <th>739</th>\n",
       "      <td>740</td>\n",
       "      <td>2019</td>\n",
       "      <td>Chennai</td>\n",
       "      <td>26-04-19</td>\n",
       "      <td>Mumbai Indians</td>\n",
       "      <td>Chennai Super Kings</td>\n",
       "      <td>Chennai Super Kings</td>\n",
       "      <td>field</td>\n",
       "      <td>normal</td>\n",
       "      <td>0</td>\n",
       "      <td>Mumbai Indians</td>\n",
       "      <td>46</td>\n",
       "      <td>0</td>\n",
       "      <td>RG Sharma</td>\n",
       "      <td>M. A. Chidambaram Stadium</td>\n",
       "      <td>Nigel Llong</td>\n",
       "      <td>Anil Chaudhary</td>\n",
       "      <td>Vineet Kulkarni</td>\n",
       "    </tr>\n",
       "    <tr>\n",
       "      <th>752</th>\n",
       "      <td>753</td>\n",
       "      <td>2019</td>\n",
       "      <td>Chennai</td>\n",
       "      <td>07-05-19</td>\n",
       "      <td>Chennai Super Kings</td>\n",
       "      <td>Mumbai Indians</td>\n",
       "      <td>Chennai Super Kings</td>\n",
       "      <td>bat</td>\n",
       "      <td>normal</td>\n",
       "      <td>0</td>\n",
       "      <td>Mumbai Indians</td>\n",
       "      <td>0</td>\n",
       "      <td>6</td>\n",
       "      <td>AS Yadav</td>\n",
       "      <td>M. A. Chidambaram Stadium</td>\n",
       "      <td>Nigel Llong</td>\n",
       "      <td>Nitin Menon</td>\n",
       "      <td>Ian Gould</td>\n",
       "    </tr>\n",
       "    <tr>\n",
       "      <th>755</th>\n",
       "      <td>756</td>\n",
       "      <td>2019</td>\n",
       "      <td>Hyderabad</td>\n",
       "      <td>12-05-19</td>\n",
       "      <td>Mumbai Indians</td>\n",
       "      <td>Chennai Super Kings</td>\n",
       "      <td>Mumbai Indians</td>\n",
       "      <td>bat</td>\n",
       "      <td>normal</td>\n",
       "      <td>0</td>\n",
       "      <td>Mumbai Indians</td>\n",
       "      <td>1</td>\n",
       "      <td>0</td>\n",
       "      <td>JJ Bumrah</td>\n",
       "      <td>Rajiv Gandhi Intl. Cricket Stadium</td>\n",
       "      <td>Nitin Menon</td>\n",
       "      <td>Ian Gould</td>\n",
       "      <td>Nigel Llong</td>\n",
       "    </tr>\n",
       "  </tbody>\n",
       "</table>\n",
       "</div>"
      ],
      "text/plain": [
       "      id  season            city      date                team1  \\\n",
       "7      8    2008         Chennai  23-04-08  Chennai Super Kings   \n",
       "36    37    2008          Mumbai  14-05-08  Chennai Super Kings   \n",
       "58    59    2009       Cape Town  18-04-09       Mumbai Indians   \n",
       "102  103    2009  Port Elizabeth  16-05-09       Mumbai Indians   \n",
       "134  135    2010          Mumbai  25-03-10  Chennai Super Kings   \n",
       "151  152    2010         Chennai  06-04-10  Chennai Super Kings   \n",
       "174  175    2010          Mumbai  25-04-10  Chennai Super Kings   \n",
       "197  198    2011          Mumbai  22-04-11       Mumbai Indians   \n",
       "248  249    2012         Chennai  04-04-12  Chennai Super Kings   \n",
       "295  296    2012          Mumbai  06-05-12  Chennai Super Kings   \n",
       "319  320    2012       Bangalore  23-05-12  Chennai Super Kings   \n",
       "326  327    2013         Chennai  06-04-13       Mumbai Indians   \n",
       "370  371    2013          Mumbai  05-05-13       Mumbai Indians   \n",
       "394  395    2013           Delhi  21-05-13  Chennai Super Kings   \n",
       "397  398    2013         Kolkata  26-05-13       Mumbai Indians   \n",
       "410  411    2014             NaN  25-04-14       Mumbai Indians   \n",
       "430  431    2014          Mumbai  10-05-14       Mumbai Indians   \n",
       "455  456    2014          Mumbai  28-05-14       Mumbai Indians   \n",
       "470  471    2015          Mumbai  17-04-15       Mumbai Indians   \n",
       "499  500    2015         Chennai  08-05-15  Chennai Super Kings   \n",
       "513  514    2015          Mumbai  19-05-15       Mumbai Indians   \n",
       "516  517    2015         Kolkata  24-05-15       Mumbai Indians   \n",
       "636  637    2018          Mumbai  07-04-18       Mumbai Indians   \n",
       "662  663    2018            Pune  28-04-18  Chennai Super Kings   \n",
       "710  711    2019          Mumbai  03-04-19       Mumbai Indians   \n",
       "739  740    2019         Chennai  26-04-19       Mumbai Indians   \n",
       "752  753    2019         Chennai  07-05-19  Chennai Super Kings   \n",
       "755  756    2019       Hyderabad  12-05-19       Mumbai Indians   \n",
       "\n",
       "                   team2          toss_winner toss_decision  result  \\\n",
       "7         Mumbai Indians       Mumbai Indians         field  normal   \n",
       "36        Mumbai Indians       Mumbai Indians         field  normal   \n",
       "58   Chennai Super Kings  Chennai Super Kings         field  normal   \n",
       "102  Chennai Super Kings       Mumbai Indians           bat  normal   \n",
       "134       Mumbai Indians       Mumbai Indians         field  normal   \n",
       "151       Mumbai Indians  Chennai Super Kings           bat  normal   \n",
       "174       Mumbai Indians  Chennai Super Kings           bat  normal   \n",
       "197  Chennai Super Kings  Chennai Super Kings         field  normal   \n",
       "248       Mumbai Indians       Mumbai Indians         field  normal   \n",
       "295       Mumbai Indians       Mumbai Indians         field  normal   \n",
       "319       Mumbai Indians       Mumbai Indians         field  normal   \n",
       "326  Chennai Super Kings       Mumbai Indians           bat  normal   \n",
       "370  Chennai Super Kings       Mumbai Indians           bat  normal   \n",
       "394       Mumbai Indians  Chennai Super Kings           bat  normal   \n",
       "397  Chennai Super Kings       Mumbai Indians           bat  normal   \n",
       "410  Chennai Super Kings       Mumbai Indians           bat  normal   \n",
       "430  Chennai Super Kings  Chennai Super Kings         field  normal   \n",
       "455  Chennai Super Kings  Chennai Super Kings         field  normal   \n",
       "470  Chennai Super Kings       Mumbai Indians           bat  normal   \n",
       "499       Mumbai Indians  Chennai Super Kings           bat  normal   \n",
       "513  Chennai Super Kings       Mumbai Indians           bat  normal   \n",
       "516  Chennai Super Kings  Chennai Super Kings         field  normal   \n",
       "636  Chennai Super Kings  Chennai Super Kings         field  normal   \n",
       "662       Mumbai Indians       Mumbai Indians         field  normal   \n",
       "710  Chennai Super Kings  Chennai Super Kings         field  normal   \n",
       "739  Chennai Super Kings  Chennai Super Kings         field  normal   \n",
       "752       Mumbai Indians  Chennai Super Kings           bat  normal   \n",
       "755  Chennai Super Kings       Mumbai Indians           bat  normal   \n",
       "\n",
       "     dl_applied               winner  win_by_runs  win_by_wickets  \\\n",
       "7             0  Chennai Super Kings            6               0   \n",
       "36            0       Mumbai Indians            0               9   \n",
       "58            0       Mumbai Indians           19               0   \n",
       "102           0  Chennai Super Kings            0               7   \n",
       "134           0       Mumbai Indians            0               5   \n",
       "151           0  Chennai Super Kings           24               0   \n",
       "174           0  Chennai Super Kings           22               0   \n",
       "197           0       Mumbai Indians            8               0   \n",
       "248           0       Mumbai Indians            0               8   \n",
       "295           0       Mumbai Indians            0               2   \n",
       "319           0  Chennai Super Kings           38               0   \n",
       "326           0       Mumbai Indians            9               0   \n",
       "370           0       Mumbai Indians           60               0   \n",
       "394           0  Chennai Super Kings           48               0   \n",
       "397           0       Mumbai Indians           23               0   \n",
       "410           0  Chennai Super Kings            0               7   \n",
       "430           0  Chennai Super Kings            0               4   \n",
       "455           0  Chennai Super Kings            0               7   \n",
       "470           0  Chennai Super Kings            0               6   \n",
       "499           0       Mumbai Indians            0               6   \n",
       "513           0       Mumbai Indians           25               0   \n",
       "516           0       Mumbai Indians           41               0   \n",
       "636           0  Chennai Super Kings            0               1   \n",
       "662           0       Mumbai Indians            0               8   \n",
       "710           0       Mumbai Indians           37               0   \n",
       "739           0       Mumbai Indians           46               0   \n",
       "752           0       Mumbai Indians            0               6   \n",
       "755           0       Mumbai Indians            1               0   \n",
       "\n",
       "     player_of_match                                    venue  \\\n",
       "7          ML Hayden          MA Chidambaram Stadium, Chepauk   \n",
       "36     ST Jayasuriya                         Wankhede Stadium   \n",
       "58      SR Tendulkar                                 Newlands   \n",
       "102        ML Hayden                         St George's Park   \n",
       "134     SR Tendulkar                        Brabourne Stadium   \n",
       "151         SK Raina          MA Chidambaram Stadium, Chepauk   \n",
       "174         SK Raina               Dr DY Patil Sports Academy   \n",
       "197  Harbhajan Singh                         Wankhede Stadium   \n",
       "248          RE Levi          MA Chidambaram Stadium, Chepauk   \n",
       "295         DR Smith                         Wankhede Stadium   \n",
       "319         MS Dhoni                    M Chinnaswamy Stadium   \n",
       "326       KA Pollard          MA Chidambaram Stadium, Chepauk   \n",
       "370       MG Johnson                         Wankhede Stadium   \n",
       "394       MEK Hussey                         Feroz Shah Kotla   \n",
       "397       KA Pollard                             Eden Gardens   \n",
       "410        MM Sharma      Dubai International Cricket Stadium   \n",
       "430         DR Smith                         Wankhede Stadium   \n",
       "455         SK Raina                        Brabourne Stadium   \n",
       "470          A Nehra                         Wankhede Stadium   \n",
       "499        HH Pandya          MA Chidambaram Stadium, Chepauk   \n",
       "513       KA Pollard                         Wankhede Stadium   \n",
       "516        RG Sharma                             Eden Gardens   \n",
       "636         DJ Bravo                         Wankhede Stadium   \n",
       "662        RG Sharma  Maharashtra Cricket Association Stadium   \n",
       "710        HH Pandya                         Wankhede Stadium   \n",
       "739        RG Sharma                M. A. Chidambaram Stadium   \n",
       "752         AS Yadav                M. A. Chidambaram Stadium   \n",
       "755        JJ Bumrah       Rajiv Gandhi Intl. Cricket Stadium   \n",
       "\n",
       "             umpire1          umpire2          umpire3  \n",
       "7          DJ Harper   GA Pratapkumar              NaN  \n",
       "36       BR Doctrove        AM Saheba              NaN  \n",
       "58       BR Doctrove      K Hariharan              NaN  \n",
       "102      SK Tarapore       SJA Taufel              NaN  \n",
       "134        BF Bowden        AM Saheba              NaN  \n",
       "151         S Asnani        DJ Harper              NaN  \n",
       "174      RE Koertzen       SJA Taufel              NaN  \n",
       "197        Asad Rauf        AM Saheba              NaN  \n",
       "248        JD Cloete       SJA Taufel              NaN  \n",
       "295        Asad Rauf         S Asnani              NaN  \n",
       "319        BF Bowden  HDPK Dharmasena              NaN  \n",
       "326        M Erasmus      VA Kulkarni              NaN  \n",
       "370  HDPK Dharmasena        CK Nandan              NaN  \n",
       "394         NJ Llong        RJ Tucker              NaN  \n",
       "397  HDPK Dharmasena       SJA Taufel              NaN  \n",
       "410        BF Bowden        M Erasmus              NaN  \n",
       "430  HDPK Dharmasena      VA Kulkarni              NaN  \n",
       "455      VA Kulkarni     BNJ Oxenford              NaN  \n",
       "470     AK Chaudhary        M Erasmus              NaN  \n",
       "499      CB Gaffaney        CK Nandan              NaN  \n",
       "513  HDPK Dharmasena   RK Illingworth              NaN  \n",
       "516  HDPK Dharmasena   RK Illingworth              NaN  \n",
       "636   Chris Gaffaney  A Nanda Kishore   Anil Chaudhary  \n",
       "662   Chris Gaffaney      Nitin Menon    Anil Dandekar  \n",
       "710   Bruce Oxenford       Rod Tucker   Yeshwant Barde  \n",
       "739      Nigel Llong   Anil Chaudhary  Vineet Kulkarni  \n",
       "752      Nigel Llong      Nitin Menon        Ian Gould  \n",
       "755      Nitin Menon        Ian Gould      Nigel Llong  "
      ]
     },
     "execution_count": 82,
     "metadata": {},
     "output_type": "execute_result"
    }
   ],
   "source": [
    "mi_csk=matches[((matches.team1 ==\"Mumbai Indians\") & (matches.team2 ==\"Chennai Super Kings\")) | \n",
    "               ((matches.team2 ==\"Mumbai Indians\") & (matches.team1 ==\"Chennai Super Kings\"))]\n",
    "mi_csk"
   ]
  },
  {
   "cell_type": "code",
   "execution_count": 83,
   "metadata": {
    "colab": {
     "base_uri": "https://localhost:8080/",
     "height": 35
    },
    "executionInfo": {
     "elapsed": 14694,
     "status": "ok",
     "timestamp": 1601651971010,
     "user": {
      "displayName": "Yash Shinde",
      "photoUrl": "https://lh5.googleusercontent.com/-8f8D8TQVBv8/AAAAAAAAAAI/AAAAAAAAHzg/6SjI9zzbbYg/s64/photo.jpg",
      "userId": "16704968411796438469"
     },
     "user_tz": -330
    },
    "id": "i-LOXUzvj-mA",
    "outputId": "997ad4b9-99b7-4adb-ca18-b972435e85ac"
   },
   "outputs": [
    {
     "name": "stdout",
     "output_type": "stream",
     "text": [
      "The no of matches played between MI and CSK is 28-the most between any teams\n"
     ]
    }
   ],
   "source": [
    "print('The no of matches played between MI and CSK is {}-the most between any teams'.format(mi_csk.id.count()))"
   ]
  },
  {
   "cell_type": "markdown",
   "metadata": {
    "id": "GRUHdqA2j-mE"
   },
   "source": [
    "## **Let's see which team has the dominance in MI vs CSK rivalry.**\n"
   ]
  },
  {
   "cell_type": "code",
   "execution_count": 84,
   "metadata": {
    "colab": {
     "base_uri": "https://localhost:8080/",
     "height": 525
    },
    "executionInfo": {
     "elapsed": 14677,
     "status": "ok",
     "timestamp": 1601651971012,
     "user": {
      "displayName": "Yash Shinde",
      "photoUrl": "https://lh5.googleusercontent.com/-8f8D8TQVBv8/AAAAAAAAAAI/AAAAAAAAHzg/6SjI9zzbbYg/s64/photo.jpg",
      "userId": "16704968411796438469"
     },
     "user_tz": -330
    },
    "id": "Q2BN_Odbj-mE",
    "outputId": "4b529acf-07bb-4802-9ecf-b4fed18736b1"
   },
   "outputs": [
    {
     "data": {
      "image/png": "[encoded data removed]",
      "text/plain": [
       "<Figure size 1008x576 with 1 Axes>"
      ]
     },
     "metadata": {
      "needs_background": "light"
     },
     "output_type": "display_data"
    }
   ],
   "source": [
    "plt.title('MI vs CSK')\n",
    "sns.countplot(x=mi_csk['winner'],palette=['#FFFF48','#87ceeb'])\n",
    "plt.text(-0.009,9,s=mi_csk['winner'].value_counts()['Chennai Super Kings'], color='white')\n",
    "plt.text(1,15,s=mi_csk['winner'].value_counts()['Mumbai Indians'], color='white');"
   ]
  },
  {
   "cell_type": "markdown",
   "metadata": {
    "id": "C_wI7dG0j-mG"
   },
   "source": [
    "***`Mumbai Indians`*** leads the rivalry with ***`6`*** extra wins as compared to ***`CSK`***"
   ]
  },
  {
   "cell_type": "markdown",
   "metadata": {
    "id": "otrRJlvEj-mG"
   },
   "source": [
    "## **Let's find the statistics related to IPL Finals**\n",
    "\n",
    "Find the final winner of IPL for each season. For this let's create a new dataframe for finals."
   ]
  },
  {
   "cell_type": "code",
   "execution_count": 85,
   "metadata": {
    "colab": {
     "base_uri": "https://localhost:8080/",
     "height": 905
    },
    "executionInfo": {
     "elapsed": 14660,
     "status": "ok",
     "timestamp": 1601651971014,
     "user": {
      "displayName": "Yash Shinde",
      "photoUrl": "https://lh5.googleusercontent.com/-8f8D8TQVBv8/AAAAAAAAAAI/AAAAAAAAHzg/6SjI9zzbbYg/s64/photo.jpg",
      "userId": "16704968411796438469"
     },
     "user_tz": -330
    },
    "id": "ypnH-aCZj-mH",
    "outputId": "d6728069-3c08-4ed3-ad3a-e687d8c0e957"
   },
   "outputs": [
    {
     "data": {
      "text/html": [
       "<div>\n",
       "<style scoped>\n",
       "    .dataframe tbody tr th:only-of-type {\n",
       "        vertical-align: middle;\n",
       "    }\n",
       "\n",
       "    .dataframe tbody tr th {\n",
       "        vertical-align: top;\n",
       "    }\n",
       "\n",
       "    .dataframe thead th {\n",
       "        text-align: right;\n",
       "    }\n",
       "</style>\n",
       "<table border=\"1\" class=\"dataframe\">\n",
       "  <thead>\n",
       "    <tr style=\"text-align: right;\">\n",
       "      <th></th>\n",
       "      <th>index</th>\n",
       "      <th>id</th>\n",
       "      <th>season</th>\n",
       "      <th>city</th>\n",
       "      <th>date</th>\n",
       "      <th>team1</th>\n",
       "      <th>team2</th>\n",
       "      <th>toss_winner</th>\n",
       "      <th>toss_decision</th>\n",
       "      <th>result</th>\n",
       "      <th>dl_applied</th>\n",
       "      <th>winner</th>\n",
       "      <th>win_by_runs</th>\n",
       "      <th>win_by_wickets</th>\n",
       "      <th>player_of_match</th>\n",
       "      <th>venue</th>\n",
       "      <th>umpire1</th>\n",
       "      <th>umpire2</th>\n",
       "      <th>umpire3</th>\n",
       "    </tr>\n",
       "  </thead>\n",
       "  <tbody>\n",
       "    <tr>\n",
       "      <th>0</th>\n",
       "      <td>57</td>\n",
       "      <td>58</td>\n",
       "      <td>2008</td>\n",
       "      <td>Mumbai</td>\n",
       "      <td>01-06-08</td>\n",
       "      <td>Chennai Super Kings</td>\n",
       "      <td>Rajasthan Royals</td>\n",
       "      <td>Rajasthan Royals</td>\n",
       "      <td>field</td>\n",
       "      <td>normal</td>\n",
       "      <td>0</td>\n",
       "      <td>Rajasthan Royals</td>\n",
       "      <td>0</td>\n",
       "      <td>3</td>\n",
       "      <td>YK Pathan</td>\n",
       "      <td>Dr DY Patil Sports Academy</td>\n",
       "      <td>BF Bowden</td>\n",
       "      <td>RE Koertzen</td>\n",
       "      <td>NaN</td>\n",
       "    </tr>\n",
       "    <tr>\n",
       "      <th>1</th>\n",
       "      <td>114</td>\n",
       "      <td>115</td>\n",
       "      <td>2009</td>\n",
       "      <td>Johannesburg</td>\n",
       "      <td>24-05-09</td>\n",
       "      <td>Deccan Chargers</td>\n",
       "      <td>Royal Challengers Bangalore</td>\n",
       "      <td>Royal Challengers Bangalore</td>\n",
       "      <td>field</td>\n",
       "      <td>normal</td>\n",
       "      <td>0</td>\n",
       "      <td>Deccan Chargers</td>\n",
       "      <td>6</td>\n",
       "      <td>0</td>\n",
       "      <td>A Kumble</td>\n",
       "      <td>New Wanderers Stadium</td>\n",
       "      <td>RE Koertzen</td>\n",
       "      <td>SJA Taufel</td>\n",
       "      <td>NaN</td>\n",
       "    </tr>\n",
       "    <tr>\n",
       "      <th>2</th>\n",
       "      <td>174</td>\n",
       "      <td>175</td>\n",
       "      <td>2010</td>\n",
       "      <td>Mumbai</td>\n",
       "      <td>25-04-10</td>\n",
       "      <td>Chennai Super Kings</td>\n",
       "      <td>Mumbai Indians</td>\n",
       "      <td>Chennai Super Kings</td>\n",
       "      <td>bat</td>\n",
       "      <td>normal</td>\n",
       "      <td>0</td>\n",
       "      <td>Chennai Super Kings</td>\n",
       "      <td>22</td>\n",
       "      <td>0</td>\n",
       "      <td>SK Raina</td>\n",
       "      <td>Dr DY Patil Sports Academy</td>\n",
       "      <td>RE Koertzen</td>\n",
       "      <td>SJA Taufel</td>\n",
       "      <td>NaN</td>\n",
       "    </tr>\n",
       "    <tr>\n",
       "      <th>3</th>\n",
       "      <td>247</td>\n",
       "      <td>248</td>\n",
       "      <td>2011</td>\n",
       "      <td>Chennai</td>\n",
       "      <td>28-05-11</td>\n",
       "      <td>Chennai Super Kings</td>\n",
       "      <td>Royal Challengers Bangalore</td>\n",
       "      <td>Chennai Super Kings</td>\n",
       "      <td>bat</td>\n",
       "      <td>normal</td>\n",
       "      <td>0</td>\n",
       "      <td>Chennai Super Kings</td>\n",
       "      <td>58</td>\n",
       "      <td>0</td>\n",
       "      <td>M Vijay</td>\n",
       "      <td>MA Chidambaram Stadium, Chepauk</td>\n",
       "      <td>Asad Rauf</td>\n",
       "      <td>SJA Taufel</td>\n",
       "      <td>NaN</td>\n",
       "    </tr>\n",
       "    <tr>\n",
       "      <th>4</th>\n",
       "      <td>321</td>\n",
       "      <td>322</td>\n",
       "      <td>2012</td>\n",
       "      <td>Chennai</td>\n",
       "      <td>27-05-12</td>\n",
       "      <td>Chennai Super Kings</td>\n",
       "      <td>Kolkata Knight Riders</td>\n",
       "      <td>Chennai Super Kings</td>\n",
       "      <td>bat</td>\n",
       "      <td>normal</td>\n",
       "      <td>0</td>\n",
       "      <td>Kolkata Knight Riders</td>\n",
       "      <td>0</td>\n",
       "      <td>5</td>\n",
       "      <td>MS Bisla</td>\n",
       "      <td>MA Chidambaram Stadium, Chepauk</td>\n",
       "      <td>BF Bowden</td>\n",
       "      <td>SJA Taufel</td>\n",
       "      <td>NaN</td>\n",
       "    </tr>\n",
       "    <tr>\n",
       "      <th>5</th>\n",
       "      <td>397</td>\n",
       "      <td>398</td>\n",
       "      <td>2013</td>\n",
       "      <td>Kolkata</td>\n",
       "      <td>26-05-13</td>\n",
       "      <td>Mumbai Indians</td>\n",
       "      <td>Chennai Super Kings</td>\n",
       "      <td>Mumbai Indians</td>\n",
       "      <td>bat</td>\n",
       "      <td>normal</td>\n",
       "      <td>0</td>\n",
       "      <td>Mumbai Indians</td>\n",
       "      <td>23</td>\n",
       "      <td>0</td>\n",
       "      <td>KA Pollard</td>\n",
       "      <td>Eden Gardens</td>\n",
       "      <td>HDPK Dharmasena</td>\n",
       "      <td>SJA Taufel</td>\n",
       "      <td>NaN</td>\n",
       "    </tr>\n",
       "    <tr>\n",
       "      <th>6</th>\n",
       "      <td>457</td>\n",
       "      <td>458</td>\n",
       "      <td>2014</td>\n",
       "      <td>Bangalore</td>\n",
       "      <td>01-06-14</td>\n",
       "      <td>Kings XI Punjab</td>\n",
       "      <td>Kolkata Knight Riders</td>\n",
       "      <td>Kolkata Knight Riders</td>\n",
       "      <td>field</td>\n",
       "      <td>normal</td>\n",
       "      <td>0</td>\n",
       "      <td>Kolkata Knight Riders</td>\n",
       "      <td>0</td>\n",
       "      <td>3</td>\n",
       "      <td>MK Pandey</td>\n",
       "      <td>M Chinnaswamy Stadium</td>\n",
       "      <td>HDPK Dharmasena</td>\n",
       "      <td>BNJ Oxenford</td>\n",
       "      <td>NaN</td>\n",
       "    </tr>\n",
       "    <tr>\n",
       "      <th>7</th>\n",
       "      <td>516</td>\n",
       "      <td>517</td>\n",
       "      <td>2015</td>\n",
       "      <td>Kolkata</td>\n",
       "      <td>24-05-15</td>\n",
       "      <td>Mumbai Indians</td>\n",
       "      <td>Chennai Super Kings</td>\n",
       "      <td>Chennai Super Kings</td>\n",
       "      <td>field</td>\n",
       "      <td>normal</td>\n",
       "      <td>0</td>\n",
       "      <td>Mumbai Indians</td>\n",
       "      <td>41</td>\n",
       "      <td>0</td>\n",
       "      <td>RG Sharma</td>\n",
       "      <td>Eden Gardens</td>\n",
       "      <td>HDPK Dharmasena</td>\n",
       "      <td>RK Illingworth</td>\n",
       "      <td>NaN</td>\n",
       "    </tr>\n",
       "    <tr>\n",
       "      <th>8</th>\n",
       "      <td>576</td>\n",
       "      <td>577</td>\n",
       "      <td>2016</td>\n",
       "      <td>Bangalore</td>\n",
       "      <td>29-05-16</td>\n",
       "      <td>Sunrisers Hyderabad</td>\n",
       "      <td>Royal Challengers Bangalore</td>\n",
       "      <td>Sunrisers Hyderabad</td>\n",
       "      <td>bat</td>\n",
       "      <td>normal</td>\n",
       "      <td>0</td>\n",
       "      <td>Sunrisers Hyderabad</td>\n",
       "      <td>8</td>\n",
       "      <td>0</td>\n",
       "      <td>BCJ Cutting</td>\n",
       "      <td>M Chinnaswamy Stadium</td>\n",
       "      <td>HDPK Dharmasena</td>\n",
       "      <td>BNJ Oxenford</td>\n",
       "      <td>NaN</td>\n",
       "    </tr>\n",
       "    <tr>\n",
       "      <th>9</th>\n",
       "      <td>635</td>\n",
       "      <td>636</td>\n",
       "      <td>2017</td>\n",
       "      <td>Hyderabad</td>\n",
       "      <td>21-05-17</td>\n",
       "      <td>Mumbai Indians</td>\n",
       "      <td>Rising Pune Supergiant</td>\n",
       "      <td>Mumbai Indians</td>\n",
       "      <td>bat</td>\n",
       "      <td>normal</td>\n",
       "      <td>0</td>\n",
       "      <td>Mumbai Indians</td>\n",
       "      <td>1</td>\n",
       "      <td>0</td>\n",
       "      <td>KH Pandya</td>\n",
       "      <td>Rajiv Gandhi International Stadium, Uppal</td>\n",
       "      <td>NJ Llong</td>\n",
       "      <td>S Ravi</td>\n",
       "      <td>NaN</td>\n",
       "    </tr>\n",
       "    <tr>\n",
       "      <th>10</th>\n",
       "      <td>695</td>\n",
       "      <td>696</td>\n",
       "      <td>2018</td>\n",
       "      <td>Mumbai</td>\n",
       "      <td>27-05-18</td>\n",
       "      <td>Sunrisers Hyderabad</td>\n",
       "      <td>Chennai Super Kings</td>\n",
       "      <td>Chennai Super Kings</td>\n",
       "      <td>field</td>\n",
       "      <td>normal</td>\n",
       "      <td>0</td>\n",
       "      <td>Chennai Super Kings</td>\n",
       "      <td>0</td>\n",
       "      <td>8</td>\n",
       "      <td>SR Watson</td>\n",
       "      <td>Wankhede Stadium</td>\n",
       "      <td>Marais Erasmus</td>\n",
       "      <td>S Ravi</td>\n",
       "      <td>Nitin Menon</td>\n",
       "    </tr>\n",
       "    <tr>\n",
       "      <th>11</th>\n",
       "      <td>755</td>\n",
       "      <td>756</td>\n",
       "      <td>2019</td>\n",
       "      <td>Hyderabad</td>\n",
       "      <td>12-05-19</td>\n",
       "      <td>Mumbai Indians</td>\n",
       "      <td>Chennai Super Kings</td>\n",
       "      <td>Mumbai Indians</td>\n",
       "      <td>bat</td>\n",
       "      <td>normal</td>\n",
       "      <td>0</td>\n",
       "      <td>Mumbai Indians</td>\n",
       "      <td>1</td>\n",
       "      <td>0</td>\n",
       "      <td>JJ Bumrah</td>\n",
       "      <td>Rajiv Gandhi Intl. Cricket Stadium</td>\n",
       "      <td>Nitin Menon</td>\n",
       "      <td>Ian Gould</td>\n",
       "      <td>Nigel Llong</td>\n",
       "    </tr>\n",
       "  </tbody>\n",
       "</table>\n",
       "</div>"
      ],
      "text/plain": [
       "    index   id  season          city      date                team1  \\\n",
       "0      57   58    2008        Mumbai  01-06-08  Chennai Super Kings   \n",
       "1     114  115    2009  Johannesburg  24-05-09      Deccan Chargers   \n",
       "2     174  175    2010        Mumbai  25-04-10  Chennai Super Kings   \n",
       "3     247  248    2011       Chennai  28-05-11  Chennai Super Kings   \n",
       "4     321  322    2012       Chennai  27-05-12  Chennai Super Kings   \n",
       "5     397  398    2013       Kolkata  26-05-13       Mumbai Indians   \n",
       "6     457  458    2014     Bangalore  01-06-14      Kings XI Punjab   \n",
       "7     516  517    2015       Kolkata  24-05-15       Mumbai Indians   \n",
       "8     576  577    2016     Bangalore  29-05-16  Sunrisers Hyderabad   \n",
       "9     635  636    2017     Hyderabad  21-05-17       Mumbai Indians   \n",
       "10    695  696    2018        Mumbai  27-05-18  Sunrisers Hyderabad   \n",
       "11    755  756    2019     Hyderabad  12-05-19       Mumbai Indians   \n",
       "\n",
       "                          team2                  toss_winner toss_decision  \\\n",
       "0              Rajasthan Royals             Rajasthan Royals         field   \n",
       "1   Royal Challengers Bangalore  Royal Challengers Bangalore         field   \n",
       "2                Mumbai Indians          Chennai Super Kings           bat   \n",
       "3   Royal Challengers Bangalore          Chennai Super Kings           bat   \n",
       "4         Kolkata Knight Riders          Chennai Super Kings           bat   \n",
       "5           Chennai Super Kings               Mumbai Indians           bat   \n",
       "6         Kolkata Knight Riders        Kolkata Knight Riders         field   \n",
       "7           Chennai Super Kings          Chennai Super Kings         field   \n",
       "8   Royal Challengers Bangalore          Sunrisers Hyderabad           bat   \n",
       "9        Rising Pune Supergiant               Mumbai Indians           bat   \n",
       "10          Chennai Super Kings          Chennai Super Kings         field   \n",
       "11          Chennai Super Kings               Mumbai Indians           bat   \n",
       "\n",
       "    result  dl_applied                 winner  win_by_runs  win_by_wickets  \\\n",
       "0   normal           0       Rajasthan Royals            0               3   \n",
       "1   normal           0        Deccan Chargers            6               0   \n",
       "2   normal           0    Chennai Super Kings           22               0   \n",
       "3   normal           0    Chennai Super Kings           58               0   \n",
       "4   normal           0  Kolkata Knight Riders            0               5   \n",
       "5   normal           0         Mumbai Indians           23               0   \n",
       "6   normal           0  Kolkata Knight Riders            0               3   \n",
       "7   normal           0         Mumbai Indians           41               0   \n",
       "8   normal           0    Sunrisers Hyderabad            8               0   \n",
       "9   normal           0         Mumbai Indians            1               0   \n",
       "10  normal           0    Chennai Super Kings            0               8   \n",
       "11  normal           0         Mumbai Indians            1               0   \n",
       "\n",
       "   player_of_match                                      venue  \\\n",
       "0        YK Pathan                 Dr DY Patil Sports Academy   \n",
       "1         A Kumble                      New Wanderers Stadium   \n",
       "2         SK Raina                 Dr DY Patil Sports Academy   \n",
       "3          M Vijay            MA Chidambaram Stadium, Chepauk   \n",
       "4         MS Bisla            MA Chidambaram Stadium, Chepauk   \n",
       "5       KA Pollard                               Eden Gardens   \n",
       "6        MK Pandey                      M Chinnaswamy Stadium   \n",
       "7        RG Sharma                               Eden Gardens   \n",
       "8      BCJ Cutting                      M Chinnaswamy Stadium   \n",
       "9        KH Pandya  Rajiv Gandhi International Stadium, Uppal   \n",
       "10       SR Watson                           Wankhede Stadium   \n",
       "11       JJ Bumrah         Rajiv Gandhi Intl. Cricket Stadium   \n",
       "\n",
       "            umpire1         umpire2      umpire3  \n",
       "0         BF Bowden     RE Koertzen          NaN  \n",
       "1       RE Koertzen      SJA Taufel          NaN  \n",
       "2       RE Koertzen      SJA Taufel          NaN  \n",
       "3         Asad Rauf      SJA Taufel          NaN  \n",
       "4         BF Bowden      SJA Taufel          NaN  \n",
       "5   HDPK Dharmasena      SJA Taufel          NaN  \n",
       "6   HDPK Dharmasena    BNJ Oxenford          NaN  \n",
       "7   HDPK Dharmasena  RK Illingworth          NaN  \n",
       "8   HDPK Dharmasena    BNJ Oxenford          NaN  \n",
       "9          NJ Llong          S Ravi          NaN  \n",
       "10   Marais Erasmus          S Ravi  Nitin Menon  \n",
       "11      Nitin Menon       Ian Gould  Nigel Llong  "
      ]
     },
     "execution_count": 85,
     "metadata": {},
     "output_type": "execute_result"
    }
   ],
   "source": [
    "final_match = matches.groupby('season').tail(1).sort_values('season').reset_index()\n",
    "final_match"
   ]
  },
  {
   "cell_type": "markdown",
   "metadata": {
    "id": "cPe4lIO2j-mJ"
   },
   "source": [
    "#**IPL Final match appearences**\n",
    "\n",
    "Now let's find out how many times each team have appeared into finals"
   ]
  },
  {
   "cell_type": "code",
   "execution_count": 86,
   "metadata": {
    "colab": {
     "base_uri": "https://localhost:8080/",
     "height": 173
    },
    "executionInfo": {
     "elapsed": 14642,
     "status": "ok",
     "timestamp": 1601651971016,
     "user": {
      "displayName": "Yash Shinde",
      "photoUrl": "https://lh5.googleusercontent.com/-8f8D8TQVBv8/AAAAAAAAAAI/AAAAAAAAHzg/6SjI9zzbbYg/s64/photo.jpg",
      "userId": "16704968411796438469"
     },
     "user_tz": -330
    },
    "id": "DZ5CYkoDj-mK",
    "outputId": "1e9da11a-c602-40ef-ac2a-9252ea05d33a"
   },
   "outputs": [
    {
     "data": {
      "text/plain": [
       "{'Chennai Super Kings': 8,\n",
       " 'Mumbai Indians': 5,\n",
       " 'Royal Challengers Bangalore': 3,\n",
       " 'Kolkata Knight Riders': 2,\n",
       " 'Sunrisers Hyderabad': 2,\n",
       " 'Rajasthan Royals': 1,\n",
       " 'Deccan Chargers': 1,\n",
       " 'Rising Pune Supergiant': 1,\n",
       " 'Kings XI Punjab': 1}"
      ]
     },
     "execution_count": 86,
     "metadata": {},
     "output_type": "execute_result"
    }
   ],
   "source": [
    "final_match_team = pd.concat([final_match['team1'],final_match['team2']])\n",
    "final_match_team_d=dict(final_match_team.value_counts())\n",
    "final_match_team_d"
   ]
  },
  {
   "cell_type": "code",
   "execution_count": 87,
   "metadata": {
    "colab": {
     "base_uri": "https://localhost:8080/",
     "height": 706
    },
    "executionInfo": {
     "elapsed": 14625,
     "status": "ok",
     "timestamp": 1601651971018,
     "user": {
      "displayName": "Yash Shinde",
      "photoUrl": "https://lh5.googleusercontent.com/-8f8D8TQVBv8/AAAAAAAAAAI/AAAAAAAAHzg/6SjI9zzbbYg/s64/photo.jpg",
      "userId": "16704968411796438469"
     },
     "user_tz": -330
    },
    "id": "lvipcX7bj-mN",
    "outputId": "e39e94b7-116c-4d43-8de6-99f50ea6aaef"
   },
   "outputs": [
    {
     "data": {
      "image/png": "[encoded data removed]",
      "text/plain": [
       "<Figure size 1008x576 with 1 Axes>"
      ]
     },
     "metadata": {
      "needs_background": "light"
     },
     "output_type": "display_data"
    }
   ],
   "source": [
    "plt.title('Count of appearances in IPL Finals')\n",
    "plt.xlabel('Teams')\n",
    "sns.countplot(x=final_match_team)\n",
    "plt.ylabel('Final Matches Played')\n",
    "plt.xticks(rotation=70);"
   ]
  },
  {
   "cell_type": "code",
   "execution_count": 88,
   "metadata": {
    "executionInfo": {
     "elapsed": 14609,
     "status": "ok",
     "timestamp": 1601651971020,
     "user": {
      "displayName": "Yash Shinde",
      "photoUrl": "https://lh5.googleusercontent.com/-8f8D8TQVBv8/AAAAAAAAAAI/AAAAAAAAHzg/6SjI9zzbbYg/s64/photo.jpg",
      "userId": "16704968411796438469"
     },
     "user_tz": -330
    },
    "id": "4S8pE5nVj-mP"
   },
   "outputs": [],
   "source": [
    "final_winner=final_match['winner'].value_counts()\n",
    "final_winner_d=dict(final_winner)"
   ]
  },
  {
   "cell_type": "code",
   "execution_count": 89,
   "metadata": {
    "colab": {
     "base_uri": "https://localhost:8080/",
     "height": 657
    },
    "executionInfo": {
     "elapsed": 15247,
     "status": "ok",
     "timestamp": 1601651971674,
     "user": {
      "displayName": "Yash Shinde",
      "photoUrl": "https://lh5.googleusercontent.com/-8f8D8TQVBv8/AAAAAAAAAAI/AAAAAAAAHzg/6SjI9zzbbYg/s64/photo.jpg",
      "userId": "16704968411796438469"
     },
     "user_tz": -330
    },
    "id": "XHO7sdUKj-mQ",
    "outputId": "d2d67f24-ab30-4a2e-eea3-8a14bf8e8714"
   },
   "outputs": [
    {
     "data": {
      "image/png": "[encoded data removed]",
      "text/plain": [
       "<Figure size 1008x576 with 1 Axes>"
      ]
     },
     "metadata": {
      "needs_background": "light"
     },
     "output_type": "display_data"
    }
   ],
   "source": [
    "sns.countplot(x=final_match['winner'])\n",
    "plt.xticks(rotation=70);\n",
    "plt.title(\"Count of IPL Final winners\");"
   ]
  },
  {
   "cell_type": "code",
   "execution_count": 90,
   "metadata": {
    "colab": {
     "base_uri": "https://localhost:8080/",
     "height": 104
    },
    "executionInfo": {
     "elapsed": 15229,
     "status": "ok",
     "timestamp": 1601651971675,
     "user": {
      "displayName": "Yash Shinde",
      "photoUrl": "https://lh5.googleusercontent.com/-8f8D8TQVBv8/AAAAAAAAAAI/AAAAAAAAHzg/6SjI9zzbbYg/s64/photo.jpg",
      "userId": "16704968411796438469"
     },
     "user_tz": -330
    },
    "id": "Jmx9LFefj-mT",
    "outputId": "775bb804-304d-4c56-e03c-666e6069a022"
   },
   "outputs": [
    {
     "data": {
      "text/plain": [
       "['Kings XI Punjab',\n",
       " 'Royal Challengers Bangalore',\n",
       " 'Royal Challengers Bangalore',\n",
       " 'Royal Challengers Bangalore',\n",
       " 'Rising Pune Supergiant']"
      ]
     },
     "execution_count": 90,
     "metadata": {},
     "output_type": "execute_result"
    }
   ],
   "source": [
    "not_final_winners=[]\n",
    "for i in final_match_team:\n",
    "    if i in final_winner:\n",
    "         continue\n",
    "    else:\n",
    "        not_final_winners= not_final_winners+[i]     \n",
    "not_final_winners"
   ]
  },
  {
   "cell_type": "code",
   "execution_count": 91,
   "metadata": {
    "executionInfo": {
     "elapsed": 15186,
     "status": "ok",
     "timestamp": 1601651971677,
     "user": {
      "displayName": "Yash Shinde",
      "photoUrl": "https://lh5.googleusercontent.com/-8f8D8TQVBv8/AAAAAAAAAAI/AAAAAAAAHzg/6SjI9zzbbYg/s64/photo.jpg",
      "userId": "16704968411796438469"
     },
     "user_tz": -330
    },
    "id": "ftAlnnKtj-mV"
   },
   "outputs": [],
   "source": [
    "import jovian"
   ]
  },
  {
   "cell_type": "code",
   "execution_count": 92,
   "metadata": {
    "colab": {
     "base_uri": "https://localhost:8080/",
     "height": 87
    },
    "executionInfo": {
     "elapsed": 16909,
     "status": "ok",
     "timestamp": 1601651973425,
     "user": {
      "displayName": "Yash Shinde",
      "photoUrl": "https://lh5.googleusercontent.com/-8f8D8TQVBv8/AAAAAAAAAAI/AAAAAAAAHzg/6SjI9zzbbYg/s64/photo.jpg",
      "userId": "16704968411796438469"
     },
     "user_tz": -330
    },
    "id": "CfeXGoMCj-mX",
    "outputId": "6dcd6a25-97d6-4467-ff39-0ad9f70a7934"
   },
   "outputs": [
    {
     "data": {
      "application/javascript": [
       "window.require && require([\"base/js/namespace\"],function(Jupyter){Jupyter.notebook.save_checkpoint()})"
      ],
      "text/plain": [
       "<IPython.core.display.Javascript object>"
      ]
     },
     "metadata": {},
     "output_type": "display_data"
    },
    {
     "name": "stdout",
     "output_type": "stream",
     "text": [
      "[jovian] Attempting to save notebook..\u001b[0m\n",
      "[jovian] Updating notebook \"uayashu145/ipl-analysis\" on https://jovian.ml/\u001b[0m\n",
      "[jovian] Uploading notebook..\u001b[0m\n",
      "[jovian] Capturing environment..\u001b[0m\n",
      "[jovian] Committed successfully! https://jovian.ml/uayashu145/ipl-analysis\u001b[0m\n"
     ]
    },
    {
     "data": {
      "text/plain": [
       "'https://jovian.ml/uayashu145/ipl-analysis'"
      ]
     },
     "execution_count": 92,
     "metadata": {},
     "output_type": "execute_result"
    }
   ],
   "source": [
    "jovian.commit(project=project_name)"
   ]
  },
  {
   "cell_type": "markdown",
   "metadata": {
    "id": "xfz0ojPyj-mZ"
   },
   "source": [
    "## **Inferences and Conclusion**\n",
    "\n"
   ]
  },
  {
   "cell_type": "markdown",
   "metadata": {
    "id": "lJWTOZjFnEQb"
   },
   "source": [
    "## ***The following are the inferences and conclusions after performing data analysis on the dataset `'matches.csv'`*** \n",
    "\n",
    "---\n",
    "\n",
    "\n",
    "1. So, we have ***`6`*** unique teams that have won the IPL Final.\n",
    "   ***`Mumbai Indians`*** have won most ***`(4)`*** IPL titles followed   by ***`Chennai Super Kings (3)`***. Thus, it is obvious that these 2 teams are the most successful teams in the IPL history. \n",
    "\n",
    "2. ***`Royal Challengers Bangalore`*** have appeared for ***`3 times`*** in IPL Finals but still is without any title wins. Followed to ***`Royal Challengers Bangalore`*** ***`Rising Pune Supergiant`*** , ***`Kings XI Punjab`*** have appeared *`1 time each`* without title wins. \n",
    "\n",
    "3. ***`Chennai Super Kings`*** have appeared for ***`(8) times`*** in IPL Finals -the most by any team in IPL. At second place, it's ***`Mumbai Indians`*** with ***`(5) times`***.\n",
    "\n",
    "4. Even though ***`Mumbai Indians`*** have greater number of wins but winning percentage of ***`Chennai Super Kings`*** is higher than ***`Mumbai Indians`***. But it may also be noted that when comparing the head to head matches between ***`Mumbai Indians and Chennai Super Kings, Mumbai Indians`*** have won most matches.\n",
    "\n",
    "5. ***` Kolkata (Eden Gardens)`*** has hosted most number of matches in the IPL.\n",
    "\n",
    "6. ***`Chris Gayle`*** has received highest number of Man of the Match Awards.\n",
    "\n",
    "7. There were ***`13 matches`*** with the result as a t***`ie(9) or no result(4)`***.\n",
    "\n",
    "8. It can be seen that impact of winning the toss has an ***`almost Equal amount of impact`*** on the result of match. So, it can be said that winning toss doesn't necessarily creates an impact on the result of match.\n",
    "\n",
    "9. The teams in ***`2011,2012 and 2013 are greater`*** than other seasons due to which matches played in those seasons are greater.\n",
    "\n",
    "10. The mean value of ***`win_by_runs and\twin_by_wickets is 13.283069\tand 3.350529 respectively. `***"
   ]
  },
  {
   "cell_type": "code",
   "execution_count": 93,
   "metadata": {
    "executionInfo": {
     "elapsed": 1297,
     "status": "ok",
     "timestamp": 1601652374492,
     "user": {
      "displayName": "Yash Shinde",
      "photoUrl": "https://lh5.googleusercontent.com/-8f8D8TQVBv8/AAAAAAAAAAI/AAAAAAAAHzg/6SjI9zzbbYg/s64/photo.jpg",
      "userId": "16704968411796438469"
     },
     "user_tz": -330
    },
    "id": "Pk5D2jhdj-mf"
   },
   "outputs": [],
   "source": [
    "import jovian"
   ]
  },
  {
   "cell_type": "code",
   "execution_count": null,
   "metadata": {
    "colab": {
     "base_uri": "https://localhost:8080/",
     "height": 87
    },
    "executionInfo": {
     "elapsed": 3465,
     "status": "ok",
     "timestamp": 1601652378851,
     "user": {
      "displayName": "Yash Shinde",
      "photoUrl": "https://lh5.googleusercontent.com/-8f8D8TQVBv8/AAAAAAAAAAI/AAAAAAAAHzg/6SjI9zzbbYg/s64/photo.jpg",
      "userId": "16704968411796438469"
     },
     "user_tz": -330
    },
    "id": "LUeLXAUHj-mg",
    "outputId": "fece9550-9c57-4254-9d1e-4a880b39edca"
   },
   "outputs": [
    {
     "data": {
      "application/javascript": [
       "window.require && require([\"base/js/namespace\"],function(Jupyter){Jupyter.notebook.save_checkpoint()})"
      ],
      "text/plain": [
       "<IPython.core.display.Javascript object>"
      ]
     },
     "metadata": {},
     "output_type": "display_data"
    },
    {
     "name": "stdout",
     "output_type": "stream",
     "text": [
      "[jovian] Attempting to save notebook..\u001b[0m\n"
     ]
    }
   ],
   "source": [
    "jovian.commit(project=project_name)"
   ]
  },
  {
   "cell_type": "markdown",
   "metadata": {
    "id": "OIzVDtFkj-mi"
   },
   "source": [
    "## **References and Future Work**\n",
    "\n"
   ]
  },
  {
   "cell_type": "markdown",
   "metadata": {
    "id": "hPVkYlFLvX0x"
   },
   "source": [
    "##**Future Work**\n",
    "The dataset for IPL(2008-2019) consisted two .csv files i.e ***`matches.csv and deliveries.csv`***. Here ***`matches.csv`*** is considered in this project for the analysis. For performing more data analysis related to ***`scores, runs by individuals, wickets etc`*** can be retrieved from ***`deliveries.csv`***. Moreover ***`matches.csv and deliveries.csv`*** can be merged together with respect to their ***`match id`*** and interesting data can be explored from the merged data.\n",
    "\n",
    "##**References**\n",
    "*  ZerotoPandas Tutorial by JovianML- https://jovian.ml/learn/data-analysis-with-python-zero-to-pandas\n",
    "*  Indian Premier League 2008-2019 dataset-  https://www.kaggle.com/nowke9/ipldata\n",
    "*   Markdown Syntax- https://learnxinyminutes.com/docs/markdown/\n",
    "*  For errors and bugs correction- https://stackoverflow.com/ \n"
   ]
  },
  {
   "cell_type": "markdown",
   "metadata": {
    "id": "tIHP9Pak7KVT"
   },
   "source": [
    "# **Thank You!!!**"
   ]
  },
  {
   "cell_type": "code",
   "execution_count": null,
   "metadata": {
    "executionInfo": {
     "elapsed": 1295,
     "status": "ok",
     "timestamp": 1601652385389,
     "user": {
      "displayName": "Yash Shinde",
      "photoUrl": "https://lh5.googleusercontent.com/-8f8D8TQVBv8/AAAAAAAAAAI/AAAAAAAAHzg/6SjI9zzbbYg/s64/photo.jpg",
      "userId": "16704968411796438469"
     },
     "user_tz": -330
    },
    "id": "uISz4DxEj-mi"
   },
   "outputs": [],
   "source": [
    "import jovian"
   ]
  },
  {
   "cell_type": "code",
   "execution_count": null,
   "metadata": {
    "colab": {
     "base_uri": "https://localhost:8080/",
     "height": 87
    },
    "executionInfo": {
     "elapsed": 2947,
     "status": "ok",
     "timestamp": 1601652389141,
     "user": {
      "displayName": "Yash Shinde",
      "photoUrl": "https://lh5.googleusercontent.com/-8f8D8TQVBv8/AAAAAAAAAAI/AAAAAAAAHzg/6SjI9zzbbYg/s64/photo.jpg",
      "userId": "16704968411796438469"
     },
     "user_tz": -330
    },
    "id": "S8GrDxHBj-mj",
    "outputId": "320a1a2b-3f0d-45b5-d770-33fade2f6b05"
   },
   "outputs": [],
   "source": [
    "jovian.commit(project=project_name)"
   ]
  },
  {
   "cell_type": "code",
   "execution_count": null,
   "metadata": {
    "executionInfo": {
     "elapsed": 19932,
     "status": "ok",
     "timestamp": 1601651976527,
     "user": {
      "displayName": "Yash Shinde",
      "photoUrl": "https://lh5.googleusercontent.com/-8f8D8TQVBv8/AAAAAAAAAAI/AAAAAAAAHzg/6SjI9zzbbYg/s64/photo.jpg",
      "userId": "16704968411796438469"
     },
     "user_tz": -330
    },
    "id": "96Lg7S8HyiO0"
   },
   "outputs": [],
   "source": []
  }
 ],
 "metadata": {
  "colab": {
   "name": "IPL_Analysis_.ipynb",
   "provenance": []
  },
  "language_info": {
   "codemirror_mode": {
    "name": "ipython",
    "version": 3
   },
   "file_extension": ".py",
   "mimetype": "text/x-python",
   "name": "python",
   "nbconvert_exporter": "python",
   "pygments_lexer": "ipython3",
   "version": "3.7.3"
  }
 },
 "nbformat": 4,
 "nbformat_minor": 1
}